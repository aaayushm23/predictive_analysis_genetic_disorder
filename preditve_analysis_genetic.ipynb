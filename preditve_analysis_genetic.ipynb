{
 "cells": [
  {
   "cell_type": "code",
   "execution_count": 2,
   "metadata": {},
   "outputs": [],
   "source": [
    "# importing the libraries\n",
    "import numpy as np\n",
    "import pandas as pd\n",
    "import matplotlib.pyplot as plt\n",
    "import seaborn as sns\n",
    "from sklearn.model_selection import train_test_split\n",
    "from sklearn.impute import SimpleImputer\n",
    "from sklearn.preprocessing import OrdinalEncoder,OneHotEncoder,LabelEncoder,MinMaxScaler\n",
    "from imblearn.over_sampling import BorderlineSMOTE\n",
    "from sklearn.feature_selection import SelectKBest,chi2\n",
    "from sklearn.metrics import f1_score \n",
    "from sklearn.model_selection import RandomizedSearchCV,GridSearchCV\n",
    "from sklearn.calibration import CalibratedClassifierCV\n",
    "from sklearn.linear_model import LogisticRegression\n",
    "from sklearn.neighbors import KNeighborsClassifier\n",
    "from sklearn.ensemble import RandomForestClassifier,GradientBoostingClassifier\n",
    "from sklearn.tree import DecisionTreeClassifier\n",
    "from xgboost import XGBClassifier\n",
    "from lightgbm import LGBMClassifier\n"
   ]
  },
  {
   "cell_type": "code",
   "execution_count": 3,
   "metadata": {},
   "outputs": [],
   "source": [
    "train = pd.read_csv(r\"C:\\Users\\Aayush\\Downloads\\genetic disorder data\\train_genetic_disorders.csv\")\n",
    "test = pd.read_csv(r\"C:\\Users\\Aayush\\Downloads\\genetic disorder data\\test_genetic_disorders.csv\")\n",
    "\n",
    "data_train=train.copy()\n",
    "data_test=test.copy()"
   ]
  },
  {
   "cell_type": "code",
   "execution_count": 4,
   "metadata": {},
   "outputs": [
    {
     "name": "stdout",
     "output_type": "stream",
     "text": [
      "Null rows_train: 1072\n"
     ]
    }
   ],
   "source": [
    "#check all null rows\n",
    "data_train[data_train.isnull().all(1)].shape\n",
    "print(\"Null rows_train:\",data_train[data_train.isnull().all(1)].shape[0])"
   ]
  },
  {
   "cell_type": "code",
   "execution_count": 5,
   "metadata": {},
   "outputs": [
    {
     "name": "stdout",
     "output_type": "stream",
     "text": [
      "Null rows_test: 173\n"
     ]
    }
   ],
   "source": [
    "#check all null rows\n",
    "data_test[data_test.isnull().all(1)].shape\n",
    "print(\"Null rows_test:\",data_test[data_test.isnull().all(1)].shape[0])"
   ]
  },
  {
   "cell_type": "code",
   "execution_count": 6,
   "metadata": {},
   "outputs": [],
   "source": [
    "#subset where no all rows being null\n",
    "data_fea_train=data_train[data_train.isnull().all(1)!=True]"
   ]
  },
  {
   "cell_type": "code",
   "execution_count": 7,
   "metadata": {},
   "outputs": [
    {
     "data": {
      "text/plain": [
       "(21011, 45)"
      ]
     },
     "execution_count": 7,
     "metadata": {},
     "output_type": "execute_result"
    }
   ],
   "source": [
    "#shape of train after removing null rows\n",
    "data_fea_train.shape"
   ]
  },
  {
   "cell_type": "code",
   "execution_count": 8,
   "metadata": {},
   "outputs": [],
   "source": [
    "#subset where no all rows being null\n",
    "data_fea_test=data_test[data_test.isnull().all(1)!=True]"
   ]
  },
  {
   "cell_type": "code",
   "execution_count": 9,
   "metadata": {},
   "outputs": [],
   "source": [
    "# Dropping the features\n",
    "data_fea_train=data_fea_train.drop(columns=['Patient Id','Patient First Name','Family Name','Father\\'s name','Institute Name','Location of Institute','Test 1','Test 2','Test 3','Test 4',\n",
    "'Test 5','Parental consent'])\n",
    "data_fea_test=data_fea_test.drop(columns=['Patient Id','Patient First Name','Family Name','Father\\'s name','Institute Name','Location of Institute','Test 1','Test 2','Test 3','Test 4',\n",
    "'Test 5','Parental consent'])"
   ]
  },
  {
   "cell_type": "code",
   "execution_count": 10,
   "metadata": {},
   "outputs": [
    {
     "name": "stdout",
     "output_type": "stream",
     "text": [
      "(21011, 33) (9290, 31)\n"
     ]
    }
   ],
   "source": [
    "print(data_fea_train.shape,data_fea_test.shape)"
   ]
  },
  {
   "cell_type": "code",
   "execution_count": 11,
   "metadata": {},
   "outputs": [],
   "source": [
    "# renaming the columns\n",
    "data_fea_train=data_fea_train.rename(columns={\"Genes in mother's side\":'defective_mother',\n",
    "                    'Inherited from father':'defective_father',\n",
    "                    'Maternal gene':'maternal_gene','Paternal gene':'paternal_gene',\n",
    "                    'Respiratory Rate (breaths/min)':'respiratory_rate','Heart Rate (rates/min':'heart_rate',\n",
    "                    'Parental consent':'parental_consent','Follow-up':'follow_up','Birth asphyxia':'birth_asphyxia',\n",
    "                    'Autopsy shows birth defect (if applicable)':'birth_defect_autopsy','Place of birth':'birth_place',\n",
    "                    'Folic acid details (peri-conceptional)':'folic_acid_periconceptional',\n",
    "                    'H/O serious maternal illness':'maternal_illness','H/O radiation exposure (x-ray)':'radiation_exposure',\n",
    "                    'H/O substance abuse':'substance_abuse','Assisted conception IVF/ART':'assisted_conception',\n",
    "                    'History of anomalies in previous pregnancies':'previous_pregnancy_anomalies',\n",
    "                    'Birth defects':'birth_defects','Blood test result':'blood_test_result','Genetic Disorder':'genetic_disorder',\n",
    "                    'Disorder Subclass':'disorder_subclass','Patient Age':'patient_age','Blood cell count (mcL)':'blood_cell_count',\n",
    "                    \"Mother's age\":'mother_age',\"Father's age\":'father_age','No. of previous abortion':'num_previous_abortion',\n",
    "                    'White Blood cell count (thousand per microliter)':'WBC_count'})"
   ]
  },
  {
   "cell_type": "code",
   "execution_count": 12,
   "metadata": {},
   "outputs": [],
   "source": [
    "data_fea_test=data_fea_test.rename(columns={\"Genes in mother's side\":'defective_mother',\n",
    "                    'Inherited from father':'defective_father',\n",
    "                    'Maternal gene':'maternal_gene','Paternal gene':'paternal_gene',\n",
    "                    'Respiratory Rate (breaths/min)':'respiratory_rate','Heart Rate (rates/min':'heart_rate',\n",
    "                    'Parental consent':'parental_consent','Follow-up':'follow_up','Birth asphyxia':'birth_asphyxia',\n",
    "                    'Autopsy shows birth defect (if applicable)':'birth_defect_autopsy','Place of birth':'birth_place',\n",
    "                    'Folic acid details (peri-conceptional)':'folic_acid_periconceptional',\n",
    "                    'H/O serious maternal illness':'maternal_illness','H/O radiation exposure (x-ray)':'radiation_exposure',\n",
    "                    'H/O substance abuse':'substance_abuse','Assisted conception IVF/ART':'assisted_conception',\n",
    "                    'History of anomalies in previous pregnancies':'previous_pregnancy_anomalies',\n",
    "                    'Birth defects':'birth_defects','Blood test result':'blood_test_result','Genetic Disorder':'genetic_disorder',\n",
    "                    'Disorder Subclass':'disorder_subclass','Patient Age':'patient_age','Blood cell count (mcL)':'blood_cell_count',\n",
    "                    \"Mother's age\":'mother_age',\"Father's age\":'father_age','No. of previous abortion':'num_previous_abortion',\n",
    "                    'White Blood cell count (thousand per microliter)':'WBC_count'})"
   ]
  },
  {
   "cell_type": "code",
   "execution_count": 13,
   "metadata": {},
   "outputs": [
    {
     "data": {
      "text/plain": [
       "(2049, 2068)"
      ]
     },
     "execution_count": 13,
     "metadata": {},
     "output_type": "execute_result"
    }
   ],
   "source": [
    "# missing target variables\n",
    "data_fea_train.iloc[:,-2].isnull().sum(),data_fea_train.iloc[:,-1].isnull().sum()"
   ]
  },
  {
   "cell_type": "code",
   "execution_count": 14,
   "metadata": {},
   "outputs": [],
   "source": [
    "# removing rows of missing target variables\n",
    "data_fea_train=data_fea_train[(data_fea_train['genetic_disorder'].isnull()!=True)&(data_fea_train['disorder_subclass'].isnull()!=True)]"
   ]
  },
  {
   "cell_type": "code",
   "execution_count": 15,
   "metadata": {},
   "outputs": [
    {
     "data": {
      "text/plain": [
       "(17160, 33)"
      ]
     },
     "execution_count": 15,
     "metadata": {},
     "output_type": "execute_result"
    }
   ],
   "source": [
    "data_fea_train.shape"
   ]
  },
  {
   "cell_type": "code",
   "execution_count": 16,
   "metadata": {},
   "outputs": [],
   "source": [
    "#Subsetting\n",
    "X=data_fea_train.iloc[:,:-2]\n",
    "y1=data_fea_train.iloc[:,-2]\n",
    "y2=data_fea_train.iloc[:,-1]"
   ]
  },
  {
   "cell_type": "code",
   "execution_count": 17,
   "metadata": {},
   "outputs": [
    {
     "data": {
      "text/plain": [
       "((17160, 31), (17160,), (17160,))"
      ]
     },
     "execution_count": 17,
     "metadata": {},
     "output_type": "execute_result"
    }
   ],
   "source": [
    "# shape of features,target variables\n",
    "X.shape,y1.shape,y2.shape"
   ]
  },
  {
   "cell_type": "code",
   "execution_count": 18,
   "metadata": {},
   "outputs": [],
   "source": [
    "# test data\n",
    "X_test=data_fea_test"
   ]
  },
  {
   "cell_type": "code",
   "execution_count": 19,
   "metadata": {},
   "outputs": [],
   "source": [
    "#converting dissimilar datatype to one\n",
    "for i in X_test.columns:\n",
    "    if X_test[i].dtype!=X[i].dtype:\n",
    "        X_test[i]=X_test[i].astype(X[i].dtype.name)"
   ]
  },
  {
   "cell_type": "code",
   "execution_count": 20,
   "metadata": {},
   "outputs": [],
   "source": [
    "# Data Cleaning\n",
    "X_test=X_test.replace('-99',np.nan)\n",
    "# Cleaning_data\n",
    "# replace '-' with other values\n",
    "X['radiation_exposure']=X['radiation_exposure'].replace('-','others')\n",
    "X['substance_abuse']=X['substance_abuse'].replace('-','others')\n",
    "# Cleaning_data\n",
    "X_test['radiation_exposure']=X_test['radiation_exposure'].replace('-','others')\n",
    "X_test['substance_abuse']=X_test['substance_abuse'].replace('-','others')"
   ]
  },
  {
   "cell_type": "code",
   "execution_count": 21,
   "metadata": {},
   "outputs": [],
   "source": [
    "# Data Cleaning\n",
    "X_test['WBC_count']=X_test['WBC_count'].mask(X_test['WBC_count']<0,np.nan)\n",
    "X_test['num_previous_abortion']=X_test['num_previous_abortion'].mask(X_test['num_previous_abortion']<0,np.nan)"
   ]
  },
  {
   "cell_type": "code",
   "execution_count": 22,
   "metadata": {},
   "outputs": [],
   "source": [
    "#Splitting the data\n",
    "X_train1,X_val1,y_train1,y_val1= train_test_split(X,y1,stratify=y1,test_size=0.20)\n",
    "X_train2,X_val2,y_train2,y_val2= train_test_split(X,y2,stratify=y2,test_size=0.20)"
   ]
  },
  {
   "cell_type": "code",
   "execution_count": 23,
   "metadata": {},
   "outputs": [
    {
     "name": "stdout",
     "output_type": "stream",
     "text": [
      "(13728, 31) (3432, 31) (13728,) (3432,)\n",
      "(13728, 31) (3432, 31) (13728,) (3432,)\n"
     ]
    }
   ],
   "source": [
    "# shape of train,validation set\n",
    "print(X_train1.shape,X_val1.shape,y_train1.shape,y_val1.shape)\n",
    "print(X_train2.shape,X_val2.shape,y_train2.shape,y_val2.shape)"
   ]
  },
  {
   "cell_type": "code",
   "execution_count": 24,
   "metadata": {},
   "outputs": [],
   "source": [
    "# Missing value imputation\n",
    "from sklearn.impute import SimpleImputer\n",
    "imp_mode=SimpleImputer(strategy='most_frequent')\n",
    "imp_mode_num=SimpleImputer(strategy='most_frequent')\n",
    "imp_median=SimpleImputer(strategy='median')"
   ]
  },
  {
   "cell_type": "code",
   "execution_count": 25,
   "metadata": {},
   "outputs": [],
   "source": [
    "pd.options.mode.chained_assignment = None  "
   ]
  },
  {
   "cell_type": "code",
   "execution_count": 26,
   "metadata": {},
   "outputs": [],
   "source": [
    "from sklearn.impute import SimpleImputer\n",
    "import numpy as np\n",
    "\n",
    "# Define imputers\n",
    "imp_mode_num = SimpleImputer(strategy='most_frequent')\n",
    "imp_median = SimpleImputer(strategy='median')\n",
    "imp_mode = SimpleImputer(strategy='most_frequent')\n",
    "\n",
    "# Iterate through each column in X\n",
    "for i in X.columns:\n",
    "    if (X[i].dtype.name != 'object') & (X[i].nunique() <= 3):\n",
    "        imp_mode_num.fit(np.array(X_train1[i]).reshape(-1, 1))\n",
    "        X_train1[i] = imp_mode_num.transform(np.array(X_train1[i]).reshape(-1, 1)).ravel()\n",
    "        X_val1[i] = imp_mode_num.transform(np.array(X_val1[i]).reshape(-1, 1)).ravel()\n",
    "        X_test[i] = imp_mode_num.transform(np.array(X_test[i]).reshape(-1, 1)).ravel()\n",
    "    elif (X[i].dtype.name != 'object') & (X[i].nunique() > 3):\n",
    "        imp_median.fit(np.array(X_train1[i]).reshape(-1, 1))\n",
    "        X_train1[i] = imp_median.transform(np.array(X_train1[i]).reshape(-1, 1)).ravel()\n",
    "        X_val1[i] = imp_median.transform(np.array(X_val1[i]).reshape(-1, 1)).ravel()\n",
    "        X_test[i] = imp_median.transform(np.array(X_test[i]).reshape(-1, 1)).ravel()\n",
    "    else:\n",
    "        imp_mode.fit(np.array(X_train1[i]).reshape(-1, 1))\n",
    "        X_train1[i] = imp_mode.transform(np.array(X_train1[i]).reshape(-1, 1)).ravel()\n",
    "        X_val1[i] = imp_mode.transform(np.array(X_val1[i]).reshape(-1, 1)).ravel()\n",
    "        X_test[i] = imp_mode.transform(np.array(X_test[i]).reshape(-1, 1)).ravel()\n"
   ]
  },
  {
   "cell_type": "code",
   "execution_count": 27,
   "metadata": {},
   "outputs": [
    {
     "data": {
      "text/plain": [
       "patient_age                     0\n",
       "defective_mother                0\n",
       "defective_father                0\n",
       "maternal_gene                   0\n",
       "paternal_gene                   0\n",
       "blood_cell_count                0\n",
       "mother_age                      0\n",
       "father_age                      0\n",
       "Status                          0\n",
       "respiratory_rate                0\n",
       "heart_rate                      0\n",
       "follow_up                       0\n",
       "Gender                          0\n",
       "birth_asphyxia                  0\n",
       "birth_defect_autopsy            0\n",
       "birth_place                     0\n",
       "folic_acid_periconceptional     0\n",
       "maternal_illness                0\n",
       "radiation_exposure              0\n",
       "substance_abuse                 0\n",
       "assisted_conception             0\n",
       "previous_pregnancy_anomalies    0\n",
       "num_previous_abortion           0\n",
       "birth_defects                   0\n",
       "WBC_count                       0\n",
       "blood_test_result               0\n",
       "Symptom 1                       0\n",
       "Symptom 2                       0\n",
       "Symptom 3                       0\n",
       "Symptom 4                       0\n",
       "Symptom 5                       0\n",
       "dtype: int64"
      ]
     },
     "execution_count": 27,
     "metadata": {},
     "output_type": "execute_result"
    }
   ],
   "source": [
    "# checking null values\n",
    "X_train1.isnull().sum()"
   ]
  },
  {
   "cell_type": "code",
   "execution_count": 28,
   "metadata": {},
   "outputs": [
    {
     "data": {
      "text/plain": [
       "patient_age                     0\n",
       "defective_mother                0\n",
       "defective_father                0\n",
       "maternal_gene                   0\n",
       "paternal_gene                   0\n",
       "blood_cell_count                0\n",
       "mother_age                      0\n",
       "father_age                      0\n",
       "Status                          0\n",
       "respiratory_rate                0\n",
       "heart_rate                      0\n",
       "follow_up                       0\n",
       "Gender                          0\n",
       "birth_asphyxia                  0\n",
       "birth_defect_autopsy            0\n",
       "birth_place                     0\n",
       "folic_acid_periconceptional     0\n",
       "maternal_illness                0\n",
       "radiation_exposure              0\n",
       "substance_abuse                 0\n",
       "assisted_conception             0\n",
       "previous_pregnancy_anomalies    0\n",
       "num_previous_abortion           0\n",
       "birth_defects                   0\n",
       "WBC_count                       0\n",
       "blood_test_result               0\n",
       "Symptom 1                       0\n",
       "Symptom 2                       0\n",
       "Symptom 3                       0\n",
       "Symptom 4                       0\n",
       "Symptom 5                       0\n",
       "dtype: int64"
      ]
     },
     "execution_count": 28,
     "metadata": {},
     "output_type": "execute_result"
    }
   ],
   "source": [
    "X_val1.isnull().sum()"
   ]
  },
  {
   "cell_type": "code",
   "execution_count": 29,
   "metadata": {},
   "outputs": [
    {
     "data": {
      "text/plain": [
       "patient_age                     0\n",
       "defective_mother                0\n",
       "defective_father                0\n",
       "maternal_gene                   0\n",
       "paternal_gene                   0\n",
       "blood_cell_count                0\n",
       "mother_age                      0\n",
       "father_age                      0\n",
       "Status                          0\n",
       "respiratory_rate                0\n",
       "heart_rate                      0\n",
       "follow_up                       0\n",
       "Gender                          0\n",
       "birth_asphyxia                  0\n",
       "birth_defect_autopsy            0\n",
       "birth_place                     0\n",
       "folic_acid_periconceptional     0\n",
       "maternal_illness                0\n",
       "radiation_exposure              0\n",
       "substance_abuse                 0\n",
       "assisted_conception             0\n",
       "previous_pregnancy_anomalies    0\n",
       "num_previous_abortion           0\n",
       "birth_defects                   0\n",
       "WBC_count                       0\n",
       "blood_test_result               0\n",
       "Symptom 1                       0\n",
       "Symptom 2                       0\n",
       "Symptom 3                       0\n",
       "Symptom 4                       0\n",
       "Symptom 5                       0\n",
       "dtype: int64"
      ]
     },
     "execution_count": 29,
     "metadata": {},
     "output_type": "execute_result"
    }
   ],
   "source": [
    "X_test.isnull().sum()"
   ]
  },
  {
   "cell_type": "code",
   "execution_count": 30,
   "metadata": {},
   "outputs": [],
   "source": [
    "# reset index\n",
    "X_train1.reset_index(inplace=True)\n",
    "X_val1.reset_index(inplace=True)"
   ]
  },
  {
   "cell_type": "code",
   "execution_count": 31,
   "metadata": {},
   "outputs": [],
   "source": [
    "import pandas as pd\n",
    "import numpy as np\n",
    "from sklearn.preprocessing import OrdinalEncoder, OneHotEncoder\n",
    "\n",
    "# Define encoders\n",
    "ord_enc = OrdinalEncoder()\n",
    "ohe_enc = OneHotEncoder()\n",
    "\n",
    "# Assume X_train1, X_val1, X_test, and X are already defined and preprocessed\n",
    "\n",
    "# Encoding the features\n",
    "for i in X.columns:\n",
    "    if X[i].dtype.name == 'object':\n",
    "        if i in X and X[i].nunique() <= 2:\n",
    "            # Ordinal encoding for binary categorical features\n",
    "            ord_enc.fit(np.array(X_train1[i]).reshape(-1, 1))\n",
    "            X_train1.loc[:, i] = ord_enc.transform(np.array(X_train1[i]).reshape(-1, 1))\n",
    "            X_val1.loc[:, i] = ord_enc.transform(np.array(X_val1[i]).reshape(-1, 1))\n",
    "            X_test.loc[:, i] = ord_enc.transform(np.array(X_test[i]).reshape(-1, 1))\n",
    "        else:\n",
    "            # One-hot encoding for multi-class categorical features\n",
    "            ohe_enc.fit(np.array(X_train1[i]).reshape(-1, 1))\n",
    "            X_encode_tr1 = pd.DataFrame(ohe_enc.transform(np.array(X_train1[i]).reshape(-1, 1)).toarray(), columns=ohe_enc.get_feature_names_out([i]))\n",
    "            X_encode_va1 = pd.DataFrame(ohe_enc.transform(np.array(X_val1[i]).reshape(-1, 1)).toarray(), columns=ohe_enc.get_feature_names_out([i]))\n",
    "            X_encode1 = pd.DataFrame(ohe_enc.transform(np.array(X_test[i]).reshape(-1, 1)).toarray(), columns=ohe_enc.get_feature_names_out([i]))\n",
    "            X_train1 = pd.concat([X_train1, X_encode_tr1], axis=1)\n",
    "            X_val1 = pd.concat([X_val1, X_encode_va1], axis=1)\n",
    "            X_test = pd.concat([X_test, X_encode1], axis=1)\n",
    "            X_train1.drop(columns=[i], inplace=True)\n",
    "            X_val1.drop(columns=[i], inplace=True)\n",
    "            X_test.drop(columns=[i], inplace=True)\n"
   ]
  },
  {
   "cell_type": "code",
   "execution_count": 32,
   "metadata": {},
   "outputs": [
    {
     "data": {
      "text/plain": [
       "((13728, 48), (3432, 48), (9290, 47))"
      ]
     },
     "execution_count": 32,
     "metadata": {},
     "output_type": "execute_result"
    }
   ],
   "source": [
    "# shape of the train,test,val\n",
    "X_train1.shape,X_val1.shape,X_test.shape"
   ]
  },
  {
   "cell_type": "code",
   "execution_count": 33,
   "metadata": {},
   "outputs": [],
   "source": [
    "X_train1.drop(columns='index',inplace=True)\n",
    "X_val1.drop(columns='index',inplace=True)"
   ]
  },
  {
   "cell_type": "code",
   "execution_count": 34,
   "metadata": {},
   "outputs": [],
   "source": [
    "from sklearn.preprocessing import MinMaxScaler\n",
    "min_max=MinMaxScaler()\n",
    "X2=min_max.fit_transform(X_train1)"
   ]
  },
  {
   "cell_type": "code",
   "execution_count": 35,
   "metadata": {},
   "outputs": [],
   "source": [
    "# normalised minmax\n",
    "X2=pd.DataFrame(X2,columns=X_train1.columns)"
   ]
  },
  {
   "cell_type": "code",
   "execution_count": 36,
   "metadata": {},
   "outputs": [],
   "source": [
    "#normalised val1\n",
    "X2_val=min_max.transform(X_val1)\n",
    "X2_val=pd.DataFrame(X2_val,columns=X_val1.columns)"
   ]
  },
  {
   "cell_type": "code",
   "execution_count": 37,
   "metadata": {},
   "outputs": [
    {
     "name": "stdout",
     "output_type": "stream",
     "text": [
      "   patient_age  defective_mother  defective_father  maternal_gene  \\\n",
      "0     0.428571               0.0               1.0            0.0   \n",
      "1     0.714286               1.0               0.0            1.0   \n",
      "2     0.357143               0.0               0.0            0.0   \n",
      "3     0.928571               0.0               1.0            1.0   \n",
      "4     0.357143               0.0               0.0            1.0   \n",
      "\n",
      "   paternal_gene  blood_cell_count  mother_age  father_age  Status  \\\n",
      "0            0.0          0.577661    0.606061    0.931818     0.0   \n",
      "1            1.0          0.672553    0.454545    0.750000     0.0   \n",
      "2            0.0          0.504746    0.909091    0.909091     1.0   \n",
      "3            0.0          0.374450    0.212121    0.795455     0.0   \n",
      "4            1.0          0.695697    0.696970    0.409091     1.0   \n",
      "\n",
      "   respiratory_rate  ...  radiation_exposure_Yes  radiation_exposure_others  \\\n",
      "0               1.0  ...                     1.0                        0.0   \n",
      "1               0.0  ...                     0.0                        0.0   \n",
      "2               0.0  ...                     1.0                        0.0   \n",
      "3               0.0  ...                     0.0                        1.0   \n",
      "4               1.0  ...                     1.0                        0.0   \n",
      "\n",
      "   substance_abuse_No  substance_abuse_Not applicable  substance_abuse_Yes  \\\n",
      "0                 0.0                             0.0                  0.0   \n",
      "1                 1.0                             0.0                  0.0   \n",
      "2                 0.0                             0.0                  1.0   \n",
      "3                 1.0                             0.0                  0.0   \n",
      "4                 0.0                             1.0                  0.0   \n",
      "\n",
      "   substance_abuse_others  blood_test_result_abnormal  \\\n",
      "0                     1.0                         0.0   \n",
      "1                     0.0                         0.0   \n",
      "2                     0.0                         0.0   \n",
      "3                     0.0                         0.0   \n",
      "4                     0.0                         0.0   \n",
      "\n",
      "   blood_test_result_inconclusive  blood_test_result_normal  \\\n",
      "0                             0.0                       0.0   \n",
      "1                             0.0                       1.0   \n",
      "2                             0.0                       0.0   \n",
      "3                             0.0                       1.0   \n",
      "4                             0.0                       1.0   \n",
      "\n",
      "   blood_test_result_slightly abnormal  \n",
      "0                                  1.0  \n",
      "1                                  0.0  \n",
      "2                                  1.0  \n",
      "3                                  0.0  \n",
      "4                                  0.0  \n",
      "\n",
      "[5 rows x 47 columns]\n"
     ]
    }
   ],
   "source": [
    "from sklearn.preprocessing import MinMaxScaler\n",
    "\n",
    "# Assuming X_train1 is your training data\n",
    "min_max = MinMaxScaler()\n",
    "min_max.fit(X_train1)\n",
    "\n",
    "# Ensure X_test has the same columns as X_train1\n",
    "X_test = X_test[X_train1.columns.intersection(X_test.columns)]\n",
    "X_test = X_test[X_train1.columns]\n",
    "\n",
    "# Normalize the test data using the same MinMaxScaler fitted on the training data\n",
    "X2_test = min_max.transform(X_test)\n",
    "X2_test = pd.DataFrame(X2_test, columns=X_test.columns)\n",
    "\n",
    "print(X2_test.head())\n"
   ]
  },
  {
   "cell_type": "code",
   "execution_count": 38,
   "metadata": {},
   "outputs": [],
   "source": [
    "# enoding the target variables1\n",
    "lab_enc1=LabelEncoder()\n",
    "y1_en=lab_enc1.fit_transform(y_train1)\n",
    "y1_en_val=lab_enc1.transform(y_val1)"
   ]
  },
  {
   "cell_type": "code",
   "execution_count": 39,
   "metadata": {},
   "outputs": [
    {
     "data": {
      "text/plain": [
       "(array([0, 1, 2]), array([0, 1, 2]))"
      ]
     },
     "execution_count": 39,
     "metadata": {},
     "output_type": "execute_result"
    }
   ],
   "source": [
    "# printing encoded targets\n",
    "np.unique(y1_en),np.unique(y1_en_val)"
   ]
  },
  {
   "cell_type": "code",
   "execution_count": 40,
   "metadata": {},
   "outputs": [],
   "source": [
    "# enoding the target variables2\n",
    "lab_enc2=LabelEncoder()\n",
    "y2_en=lab_enc2.fit_transform(y_train2)\n",
    "y2_en_val=lab_enc2.transform(y_val2)"
   ]
  },
  {
   "cell_type": "code",
   "execution_count": 41,
   "metadata": {},
   "outputs": [
    {
     "data": {
      "text/plain": [
       "(array([0, 1, 2, 3, 4, 5, 6, 7, 8]), array([0, 1, 2, 3, 4, 5, 6, 7, 8]))"
      ]
     },
     "execution_count": 41,
     "metadata": {},
     "output_type": "execute_result"
    }
   ],
   "source": [
    "# printing encoded targets\n",
    "np.unique(y2_en),np.unique(y2_en_val)"
   ]
  },
  {
   "cell_type": "code",
   "execution_count": 42,
   "metadata": {},
   "outputs": [
    {
     "name": "stdout",
     "output_type": "stream",
     "text": [
      "shape of X before SMOTE: (13728, 47) \n",
      "shape of X after SMOTE: (21039, 47)\n",
      "balanced class (%):\n"
     ]
    },
    {
     "data": {
      "text/plain": [
       "0\n",
       "0    33.333333\n",
       "1    33.333333\n",
       "2    33.333333\n",
       "Name: proportion, dtype: float64"
      ]
     },
     "execution_count": 42,
     "metadata": {},
     "output_type": "execute_result"
    }
   ],
   "source": [
    "from imblearn.over_sampling import BorderlineSMOTE\n",
    "sm = BorderlineSMOTE(random_state=42)\n",
    "X_sm, y_sm = sm.fit_resample(X2, pd.DataFrame(y1_en))\n",
    "print(f'''shape of X before SMOTE: {X2.shape} \n",
    "shape of X after SMOTE: {X_sm.shape}''')\n",
    "print('balanced class (%):')\n",
    "y_sm.value_counts(normalize=True) * 100"
   ]
  },
  {
   "cell_type": "code",
   "execution_count": 43,
   "metadata": {},
   "outputs": [
    {
     "data": {
      "text/html": [
       "<div>\n",
       "<style scoped>\n",
       "    .dataframe tbody tr th:only-of-type {\n",
       "        vertical-align: middle;\n",
       "    }\n",
       "\n",
       "    .dataframe tbody tr th {\n",
       "        vertical-align: top;\n",
       "    }\n",
       "\n",
       "    .dataframe thead th {\n",
       "        text-align: right;\n",
       "    }\n",
       "</style>\n",
       "<table border=\"1\" class=\"dataframe\">\n",
       "  <thead>\n",
       "    <tr style=\"text-align: right;\">\n",
       "      <th></th>\n",
       "      <th>patient_age</th>\n",
       "      <th>defective_mother</th>\n",
       "      <th>defective_father</th>\n",
       "      <th>maternal_gene</th>\n",
       "      <th>paternal_gene</th>\n",
       "      <th>blood_cell_count</th>\n",
       "      <th>mother_age</th>\n",
       "      <th>father_age</th>\n",
       "      <th>Status</th>\n",
       "      <th>respiratory_rate</th>\n",
       "      <th>...</th>\n",
       "      <th>radiation_exposure_Yes</th>\n",
       "      <th>radiation_exposure_others</th>\n",
       "      <th>substance_abuse_No</th>\n",
       "      <th>substance_abuse_Not applicable</th>\n",
       "      <th>substance_abuse_Yes</th>\n",
       "      <th>substance_abuse_others</th>\n",
       "      <th>blood_test_result_abnormal</th>\n",
       "      <th>blood_test_result_inconclusive</th>\n",
       "      <th>blood_test_result_normal</th>\n",
       "      <th>blood_test_result_slightly abnormal</th>\n",
       "    </tr>\n",
       "  </thead>\n",
       "  <tbody>\n",
       "    <tr>\n",
       "      <th>0</th>\n",
       "      <td>0.000000</td>\n",
       "      <td>1.0</td>\n",
       "      <td>1.0</td>\n",
       "      <td>1.0</td>\n",
       "      <td>0.0</td>\n",
       "      <td>0.838325</td>\n",
       "      <td>0.515152</td>\n",
       "      <td>0.590909</td>\n",
       "      <td>1.0</td>\n",
       "      <td>1.0</td>\n",
       "      <td>...</td>\n",
       "      <td>0.0</td>\n",
       "      <td>1.0</td>\n",
       "      <td>0.0</td>\n",
       "      <td>0.0</td>\n",
       "      <td>0.0</td>\n",
       "      <td>1.0</td>\n",
       "      <td>0.0</td>\n",
       "      <td>0.0</td>\n",
       "      <td>0.0</td>\n",
       "      <td>1.0</td>\n",
       "    </tr>\n",
       "    <tr>\n",
       "      <th>1</th>\n",
       "      <td>0.428571</td>\n",
       "      <td>0.0</td>\n",
       "      <td>1.0</td>\n",
       "      <td>0.0</td>\n",
       "      <td>0.0</td>\n",
       "      <td>0.814047</td>\n",
       "      <td>0.363636</td>\n",
       "      <td>0.386364</td>\n",
       "      <td>1.0</td>\n",
       "      <td>0.0</td>\n",
       "      <td>...</td>\n",
       "      <td>0.0</td>\n",
       "      <td>0.0</td>\n",
       "      <td>0.0</td>\n",
       "      <td>1.0</td>\n",
       "      <td>0.0</td>\n",
       "      <td>0.0</td>\n",
       "      <td>0.0</td>\n",
       "      <td>0.0</td>\n",
       "      <td>0.0</td>\n",
       "      <td>1.0</td>\n",
       "    </tr>\n",
       "  </tbody>\n",
       "</table>\n",
       "<p>2 rows × 47 columns</p>\n",
       "</div>"
      ],
      "text/plain": [
       "   patient_age  defective_mother  defective_father  maternal_gene  \\\n",
       "0     0.000000               1.0               1.0            1.0   \n",
       "1     0.428571               0.0               1.0            0.0   \n",
       "\n",
       "   paternal_gene  blood_cell_count  mother_age  father_age  Status  \\\n",
       "0            0.0          0.838325    0.515152    0.590909     1.0   \n",
       "1            0.0          0.814047    0.363636    0.386364     1.0   \n",
       "\n",
       "   respiratory_rate  ...  radiation_exposure_Yes  radiation_exposure_others  \\\n",
       "0               1.0  ...                     0.0                        1.0   \n",
       "1               0.0  ...                     0.0                        0.0   \n",
       "\n",
       "   substance_abuse_No  substance_abuse_Not applicable  substance_abuse_Yes  \\\n",
       "0                 0.0                             0.0                  0.0   \n",
       "1                 0.0                             1.0                  0.0   \n",
       "\n",
       "   substance_abuse_others  blood_test_result_abnormal  \\\n",
       "0                     1.0                         0.0   \n",
       "1                     0.0                         0.0   \n",
       "\n",
       "   blood_test_result_inconclusive  blood_test_result_normal  \\\n",
       "0                             0.0                       0.0   \n",
       "1                             0.0                       0.0   \n",
       "\n",
       "   blood_test_result_slightly abnormal  \n",
       "0                                  1.0  \n",
       "1                                  1.0  \n",
       "\n",
       "[2 rows x 47 columns]"
      ]
     },
     "execution_count": 43,
     "metadata": {},
     "output_type": "execute_result"
    }
   ],
   "source": [
    "X_sm.head(2)"
   ]
  },
  {
   "cell_type": "code",
   "execution_count": 44,
   "metadata": {},
   "outputs": [],
   "source": [
    "y1_enco=np.array(y_sm).ravel()"
   ]
  },
  {
   "cell_type": "code",
   "execution_count": 45,
   "metadata": {},
   "outputs": [],
   "source": [
    "from sklearn.feature_selection import SelectKBest,chi2"
   ]
  },
  {
   "cell_type": "code",
   "execution_count": 46,
   "metadata": {},
   "outputs": [],
   "source": [
    "sel1=SelectKBest(chi2, k=25).fit(X_sm,y1_enco)"
   ]
  },
  {
   "cell_type": "code",
   "execution_count": 47,
   "metadata": {},
   "outputs": [
    {
     "name": "stdout",
     "output_type": "stream",
     "text": [
      "(21039, 25)\n"
     ]
    }
   ],
   "source": [
    "cols=sel1.get_support(indices=True)\n",
    "print(X_sm.iloc[:,cols].shape)\n",
    "result_kbest_20=X_sm.iloc[:,cols]"
   ]
  },
  {
   "cell_type": "code",
   "execution_count": 48,
   "metadata": {},
   "outputs": [
    {
     "name": "stdout",
     "output_type": "stream",
     "text": [
      "Index(['defective_mother', 'defective_father', 'maternal_gene',\n",
      "       'paternal_gene', 'follow_up', 'folic_acid_periconceptional',\n",
      "       'birth_defects', 'Symptom 1', 'Symptom 2', 'Symptom 3', 'Symptom 4',\n",
      "       'Symptom 5', 'Gender_Female', 'Gender_Male', 'birth_asphyxia_No record',\n",
      "       'birth_asphyxia_Not available', 'radiation_exposure_No',\n",
      "       'radiation_exposure_Not applicable', 'radiation_exposure_Yes',\n",
      "       'radiation_exposure_others', 'substance_abuse_No',\n",
      "       'substance_abuse_others', 'blood_test_result_abnormal',\n",
      "       'blood_test_result_normal', 'blood_test_result_slightly abnormal'],\n",
      "      dtype='object')\n"
     ]
    }
   ],
   "source": [
    "sele_fea= X2.columns[(sel1.get_support())]\n",
    "print(sele_fea)"
   ]
  },
  {
   "cell_type": "code",
   "execution_count": 49,
   "metadata": {},
   "outputs": [
    {
     "name": "stdout",
     "output_type": "stream",
     "text": [
      "(3432, 25)\n"
     ]
    }
   ],
   "source": [
    "print(X2_val.iloc[:,cols].shape)\n",
    "result_kbest_val=X2_val.iloc[:,cols]"
   ]
  },
  {
   "cell_type": "code",
   "execution_count": 50,
   "metadata": {},
   "outputs": [
    {
     "name": "stdout",
     "output_type": "stream",
     "text": [
      "(9290, 25)\n"
     ]
    }
   ],
   "source": [
    "print(X2_test.iloc[:,cols].shape)\n",
    "result_kbest_test20=X2_test.iloc[:,cols]"
   ]
  },
  {
   "cell_type": "code",
   "execution_count": 51,
   "metadata": {},
   "outputs": [],
   "source": [
    "from sklearn.metrics import f1_score"
   ]
  },
  {
   "cell_type": "code",
   "execution_count": 52,
   "metadata": {},
   "outputs": [
    {
     "name": "stdout",
     "output_type": "stream",
     "text": [
      "f1_macro for k =  1 is 0.4210300193494607\n",
      "f1_macro for k =  3 is 0.4351402426925774\n",
      "f1_macro for k =  5 is 0.4473792078471637\n",
      "f1_macro for k =  7 is 0.4526881332284183\n",
      "f1_macro for k =  9 is 0.45393002045841097\n",
      "f1_macro for k =  11 is 0.454216543770757\n",
      "f1_macro for k =  13 is 0.4577999173980092\n",
      "For values of best nn =  13 The train f1_macro is: 0.7023155802254893\n",
      "For values of best nn =  13 The cross validation f1_macro is: 0.4577999173980092\n"
     ]
    }
   ],
   "source": [
    "nn=[x for x in range(1, 15, 2)]\n",
    "cv_f1_macro=[]\n",
    "for i in nn:\n",
    "    knn=KNeighborsClassifier(n_neighbors=i,n_jobs=-1)\n",
    "    knn.fit(result_kbest_20,y1_enco)\n",
    "    cal_clf = CalibratedClassifierCV(knn, method=\"sigmoid\")\n",
    "    cal_clf.fit(result_kbest_20,y1_enco)\n",
    "    predict_y=cal_clf.predict(result_kbest_val)\n",
    "    cv_f1_macro.append(f1_score(y1_en_val, predict_y,average='macro'))\n",
    "for i in range(len(cv_f1_macro)):\n",
    "    print ('f1_macro for k = ',nn[i],'is',cv_f1_macro[i])\n",
    "best_nn = np.argmax(cv_f1_macro)\n",
    "knn=KNeighborsClassifier(n_neighbors=nn[best_nn])\n",
    "knn.fit(result_kbest_20,y1_enco)\n",
    "cal_clf = CalibratedClassifierCV(knn, method=\"sigmoid\")\n",
    "cal_clf.fit(result_kbest_20,y1_enco)\n",
    "\n",
    "predict_y =cal_clf .predict(result_kbest_20)\n",
    "print ('For values of best nn = ', nn[best_nn], \"The train f1_macro is:\",f1_score(y1_enco, predict_y,average='macro'))\n",
    "predict_y = cal_clf.predict(result_kbest_val)\n",
    "print('For values of best nn = ', nn[best_nn], \"The cross validation f1_macro is:\",f1_score(y1_en_val, predict_y,average='macro'))"
   ]
  },
  {
   "cell_type": "code",
   "execution_count": 53,
   "metadata": {},
   "outputs": [
    {
     "name": "stdout",
     "output_type": "stream",
     "text": [
      "f1_macro for k =  1e-05 is 0.443942574218888\n",
      "f1_macro for k =  0.0001 is 0.4451241854859876\n",
      "f1_macro for k =  0.001 is 0.44507892340635175\n",
      "f1_macro for k =  0.01 is 0.44209141190373336\n",
      "f1_macro for k =  0.1 is 0.4409076793523137\n",
      "f1_macro for k =  1 is 0.44136839158899055\n",
      "f1_macro for k =  10 is 0.44088173153402305\n",
      "f1_macro for k =  100 is 0.4413548505720419\n",
      "f1_macro for k =  1000 is 0.4413548505720419\n",
      "For values of best C =  0.0001 The train f1_macro is: 0.5572357431913831\n",
      "For values of best C =  0.0001 The cross validation f1_macro is: 0.4451241854859876\n"
     ]
    }
   ],
   "source": [
    "C1= [10 ** x for x in range(-5, 4)]\n",
    "cv_f1_macro=[]\n",
    "for i in C1:\n",
    "    logisticR=LogisticRegression(penalty='l2',C=i,class_weight='balanced')\n",
    "    logisticR.fit(result_kbest_20,y1_enco)\n",
    "    cal_clf = CalibratedClassifierCV(logisticR, method=\"sigmoid\")\n",
    "    cal_clf.fit(result_kbest_20,y1_enco)\n",
    "    predict_y=cal_clf.predict(result_kbest_val)\n",
    "    cv_f1_macro.append(f1_score(y1_en_val, predict_y,average='macro'))\n",
    "for i in range(len(cv_f1_macro)):\n",
    "    print ('f1_macro for k = ',C1[i],'is',cv_f1_macro[i])\n",
    "best_C1 = np.argmax(cv_f1_macro)\n",
    "logisticR=LogisticRegression(penalty='l2',C=C1[best_C1],class_weight='balanced')\n",
    "logisticR.fit(result_kbest_20,y1_enco)\n",
    "cal_clf = CalibratedClassifierCV(logisticR, method=\"sigmoid\")\n",
    "cal_clf.fit(result_kbest_20,y1_enco)\n",
    "\n",
    "predict_y =cal_clf .predict(result_kbest_20)\n",
    "print ('For values of best C = ',C1[best_C1], \"The train f1_macro is:\",f1_score(y1_enco, predict_y,average='macro'))\n",
    "predict_y = cal_clf.predict(result_kbest_val)\n",
    "print('For values of best C = ',C1[best_C1], \"The cross validation f1_macro is:\",f1_score(y1_en_val, predict_y,average='macro'))"
   ]
  },
  {
   "cell_type": "code",
   "execution_count": 54,
   "metadata": {},
   "outputs": [
    {
     "name": "stdout",
     "output_type": "stream",
     "text": [
      "Fitting 5 folds for each of 10 candidates, totalling 50 fits\n"
     ]
    },
    {
     "data": {
      "text/html": [
       "<style>#sk-container-id-1 {\n",
       "  /* Definition of color scheme common for light and dark mode */\n",
       "  --sklearn-color-text: black;\n",
       "  --sklearn-color-line: gray;\n",
       "  /* Definition of color scheme for unfitted estimators */\n",
       "  --sklearn-color-unfitted-level-0: #fff5e6;\n",
       "  --sklearn-color-unfitted-level-1: #f6e4d2;\n",
       "  --sklearn-color-unfitted-level-2: #ffe0b3;\n",
       "  --sklearn-color-unfitted-level-3: chocolate;\n",
       "  /* Definition of color scheme for fitted estimators */\n",
       "  --sklearn-color-fitted-level-0: #f0f8ff;\n",
       "  --sklearn-color-fitted-level-1: #d4ebff;\n",
       "  --sklearn-color-fitted-level-2: #b3dbfd;\n",
       "  --sklearn-color-fitted-level-3: cornflowerblue;\n",
       "\n",
       "  /* Specific color for light theme */\n",
       "  --sklearn-color-text-on-default-background: var(--sg-text-color, var(--theme-code-foreground, var(--jp-content-font-color1, black)));\n",
       "  --sklearn-color-background: var(--sg-background-color, var(--theme-background, var(--jp-layout-color0, white)));\n",
       "  --sklearn-color-border-box: var(--sg-text-color, var(--theme-code-foreground, var(--jp-content-font-color1, black)));\n",
       "  --sklearn-color-icon: #696969;\n",
       "\n",
       "  @media (prefers-color-scheme: dark) {\n",
       "    /* Redefinition of color scheme for dark theme */\n",
       "    --sklearn-color-text-on-default-background: var(--sg-text-color, var(--theme-code-foreground, var(--jp-content-font-color1, white)));\n",
       "    --sklearn-color-background: var(--sg-background-color, var(--theme-background, var(--jp-layout-color0, #111)));\n",
       "    --sklearn-color-border-box: var(--sg-text-color, var(--theme-code-foreground, var(--jp-content-font-color1, white)));\n",
       "    --sklearn-color-icon: #878787;\n",
       "  }\n",
       "}\n",
       "\n",
       "#sk-container-id-1 {\n",
       "  color: var(--sklearn-color-text);\n",
       "}\n",
       "\n",
       "#sk-container-id-1 pre {\n",
       "  padding: 0;\n",
       "}\n",
       "\n",
       "#sk-container-id-1 input.sk-hidden--visually {\n",
       "  border: 0;\n",
       "  clip: rect(1px 1px 1px 1px);\n",
       "  clip: rect(1px, 1px, 1px, 1px);\n",
       "  height: 1px;\n",
       "  margin: -1px;\n",
       "  overflow: hidden;\n",
       "  padding: 0;\n",
       "  position: absolute;\n",
       "  width: 1px;\n",
       "}\n",
       "\n",
       "#sk-container-id-1 div.sk-dashed-wrapped {\n",
       "  border: 1px dashed var(--sklearn-color-line);\n",
       "  margin: 0 0.4em 0.5em 0.4em;\n",
       "  box-sizing: border-box;\n",
       "  padding-bottom: 0.4em;\n",
       "  background-color: var(--sklearn-color-background);\n",
       "}\n",
       "\n",
       "#sk-container-id-1 div.sk-container {\n",
       "  /* jupyter's `normalize.less` sets `[hidden] { display: none; }`\n",
       "     but bootstrap.min.css set `[hidden] { display: none !important; }`\n",
       "     so we also need the `!important` here to be able to override the\n",
       "     default hidden behavior on the sphinx rendered scikit-learn.org.\n",
       "     See: https://github.com/scikit-learn/scikit-learn/issues/21755 */\n",
       "  display: inline-block !important;\n",
       "  position: relative;\n",
       "}\n",
       "\n",
       "#sk-container-id-1 div.sk-text-repr-fallback {\n",
       "  display: none;\n",
       "}\n",
       "\n",
       "div.sk-parallel-item,\n",
       "div.sk-serial,\n",
       "div.sk-item {\n",
       "  /* draw centered vertical line to link estimators */\n",
       "  background-image: linear-gradient(var(--sklearn-color-text-on-default-background), var(--sklearn-color-text-on-default-background));\n",
       "  background-size: 2px 100%;\n",
       "  background-repeat: no-repeat;\n",
       "  background-position: center center;\n",
       "}\n",
       "\n",
       "/* Parallel-specific style estimator block */\n",
       "\n",
       "#sk-container-id-1 div.sk-parallel-item::after {\n",
       "  content: \"\";\n",
       "  width: 100%;\n",
       "  border-bottom: 2px solid var(--sklearn-color-text-on-default-background);\n",
       "  flex-grow: 1;\n",
       "}\n",
       "\n",
       "#sk-container-id-1 div.sk-parallel {\n",
       "  display: flex;\n",
       "  align-items: stretch;\n",
       "  justify-content: center;\n",
       "  background-color: var(--sklearn-color-background);\n",
       "  position: relative;\n",
       "}\n",
       "\n",
       "#sk-container-id-1 div.sk-parallel-item {\n",
       "  display: flex;\n",
       "  flex-direction: column;\n",
       "}\n",
       "\n",
       "#sk-container-id-1 div.sk-parallel-item:first-child::after {\n",
       "  align-self: flex-end;\n",
       "  width: 50%;\n",
       "}\n",
       "\n",
       "#sk-container-id-1 div.sk-parallel-item:last-child::after {\n",
       "  align-self: flex-start;\n",
       "  width: 50%;\n",
       "}\n",
       "\n",
       "#sk-container-id-1 div.sk-parallel-item:only-child::after {\n",
       "  width: 0;\n",
       "}\n",
       "\n",
       "/* Serial-specific style estimator block */\n",
       "\n",
       "#sk-container-id-1 div.sk-serial {\n",
       "  display: flex;\n",
       "  flex-direction: column;\n",
       "  align-items: center;\n",
       "  background-color: var(--sklearn-color-background);\n",
       "  padding-right: 1em;\n",
       "  padding-left: 1em;\n",
       "}\n",
       "\n",
       "\n",
       "/* Toggleable style: style used for estimator/Pipeline/ColumnTransformer box that is\n",
       "clickable and can be expanded/collapsed.\n",
       "- Pipeline and ColumnTransformer use this feature and define the default style\n",
       "- Estimators will overwrite some part of the style using the `sk-estimator` class\n",
       "*/\n",
       "\n",
       "/* Pipeline and ColumnTransformer style (default) */\n",
       "\n",
       "#sk-container-id-1 div.sk-toggleable {\n",
       "  /* Default theme specific background. It is overwritten whether we have a\n",
       "  specific estimator or a Pipeline/ColumnTransformer */\n",
       "  background-color: var(--sklearn-color-background);\n",
       "}\n",
       "\n",
       "/* Toggleable label */\n",
       "#sk-container-id-1 label.sk-toggleable__label {\n",
       "  cursor: pointer;\n",
       "  display: block;\n",
       "  width: 100%;\n",
       "  margin-bottom: 0;\n",
       "  padding: 0.5em;\n",
       "  box-sizing: border-box;\n",
       "  text-align: center;\n",
       "}\n",
       "\n",
       "#sk-container-id-1 label.sk-toggleable__label-arrow:before {\n",
       "  /* Arrow on the left of the label */\n",
       "  content: \"▸\";\n",
       "  float: left;\n",
       "  margin-right: 0.25em;\n",
       "  color: var(--sklearn-color-icon);\n",
       "}\n",
       "\n",
       "#sk-container-id-1 label.sk-toggleable__label-arrow:hover:before {\n",
       "  color: var(--sklearn-color-text);\n",
       "}\n",
       "\n",
       "/* Toggleable content - dropdown */\n",
       "\n",
       "#sk-container-id-1 div.sk-toggleable__content {\n",
       "  max-height: 0;\n",
       "  max-width: 0;\n",
       "  overflow: hidden;\n",
       "  text-align: left;\n",
       "  /* unfitted */\n",
       "  background-color: var(--sklearn-color-unfitted-level-0);\n",
       "}\n",
       "\n",
       "#sk-container-id-1 div.sk-toggleable__content.fitted {\n",
       "  /* fitted */\n",
       "  background-color: var(--sklearn-color-fitted-level-0);\n",
       "}\n",
       "\n",
       "#sk-container-id-1 div.sk-toggleable__content pre {\n",
       "  margin: 0.2em;\n",
       "  border-radius: 0.25em;\n",
       "  color: var(--sklearn-color-text);\n",
       "  /* unfitted */\n",
       "  background-color: var(--sklearn-color-unfitted-level-0);\n",
       "}\n",
       "\n",
       "#sk-container-id-1 div.sk-toggleable__content.fitted pre {\n",
       "  /* unfitted */\n",
       "  background-color: var(--sklearn-color-fitted-level-0);\n",
       "}\n",
       "\n",
       "#sk-container-id-1 input.sk-toggleable__control:checked~div.sk-toggleable__content {\n",
       "  /* Expand drop-down */\n",
       "  max-height: 200px;\n",
       "  max-width: 100%;\n",
       "  overflow: auto;\n",
       "}\n",
       "\n",
       "#sk-container-id-1 input.sk-toggleable__control:checked~label.sk-toggleable__label-arrow:before {\n",
       "  content: \"▾\";\n",
       "}\n",
       "\n",
       "/* Pipeline/ColumnTransformer-specific style */\n",
       "\n",
       "#sk-container-id-1 div.sk-label input.sk-toggleable__control:checked~label.sk-toggleable__label {\n",
       "  color: var(--sklearn-color-text);\n",
       "  background-color: var(--sklearn-color-unfitted-level-2);\n",
       "}\n",
       "\n",
       "#sk-container-id-1 div.sk-label.fitted input.sk-toggleable__control:checked~label.sk-toggleable__label {\n",
       "  background-color: var(--sklearn-color-fitted-level-2);\n",
       "}\n",
       "\n",
       "/* Estimator-specific style */\n",
       "\n",
       "/* Colorize estimator box */\n",
       "#sk-container-id-1 div.sk-estimator input.sk-toggleable__control:checked~label.sk-toggleable__label {\n",
       "  /* unfitted */\n",
       "  background-color: var(--sklearn-color-unfitted-level-2);\n",
       "}\n",
       "\n",
       "#sk-container-id-1 div.sk-estimator.fitted input.sk-toggleable__control:checked~label.sk-toggleable__label {\n",
       "  /* fitted */\n",
       "  background-color: var(--sklearn-color-fitted-level-2);\n",
       "}\n",
       "\n",
       "#sk-container-id-1 div.sk-label label.sk-toggleable__label,\n",
       "#sk-container-id-1 div.sk-label label {\n",
       "  /* The background is the default theme color */\n",
       "  color: var(--sklearn-color-text-on-default-background);\n",
       "}\n",
       "\n",
       "/* On hover, darken the color of the background */\n",
       "#sk-container-id-1 div.sk-label:hover label.sk-toggleable__label {\n",
       "  color: var(--sklearn-color-text);\n",
       "  background-color: var(--sklearn-color-unfitted-level-2);\n",
       "}\n",
       "\n",
       "/* Label box, darken color on hover, fitted */\n",
       "#sk-container-id-1 div.sk-label.fitted:hover label.sk-toggleable__label.fitted {\n",
       "  color: var(--sklearn-color-text);\n",
       "  background-color: var(--sklearn-color-fitted-level-2);\n",
       "}\n",
       "\n",
       "/* Estimator label */\n",
       "\n",
       "#sk-container-id-1 div.sk-label label {\n",
       "  font-family: monospace;\n",
       "  font-weight: bold;\n",
       "  display: inline-block;\n",
       "  line-height: 1.2em;\n",
       "}\n",
       "\n",
       "#sk-container-id-1 div.sk-label-container {\n",
       "  text-align: center;\n",
       "}\n",
       "\n",
       "/* Estimator-specific */\n",
       "#sk-container-id-1 div.sk-estimator {\n",
       "  font-family: monospace;\n",
       "  border: 1px dotted var(--sklearn-color-border-box);\n",
       "  border-radius: 0.25em;\n",
       "  box-sizing: border-box;\n",
       "  margin-bottom: 0.5em;\n",
       "  /* unfitted */\n",
       "  background-color: var(--sklearn-color-unfitted-level-0);\n",
       "}\n",
       "\n",
       "#sk-container-id-1 div.sk-estimator.fitted {\n",
       "  /* fitted */\n",
       "  background-color: var(--sklearn-color-fitted-level-0);\n",
       "}\n",
       "\n",
       "/* on hover */\n",
       "#sk-container-id-1 div.sk-estimator:hover {\n",
       "  /* unfitted */\n",
       "  background-color: var(--sklearn-color-unfitted-level-2);\n",
       "}\n",
       "\n",
       "#sk-container-id-1 div.sk-estimator.fitted:hover {\n",
       "  /* fitted */\n",
       "  background-color: var(--sklearn-color-fitted-level-2);\n",
       "}\n",
       "\n",
       "/* Specification for estimator info (e.g. \"i\" and \"?\") */\n",
       "\n",
       "/* Common style for \"i\" and \"?\" */\n",
       "\n",
       ".sk-estimator-doc-link,\n",
       "a:link.sk-estimator-doc-link,\n",
       "a:visited.sk-estimator-doc-link {\n",
       "  float: right;\n",
       "  font-size: smaller;\n",
       "  line-height: 1em;\n",
       "  font-family: monospace;\n",
       "  background-color: var(--sklearn-color-background);\n",
       "  border-radius: 1em;\n",
       "  height: 1em;\n",
       "  width: 1em;\n",
       "  text-decoration: none !important;\n",
       "  margin-left: 1ex;\n",
       "  /* unfitted */\n",
       "  border: var(--sklearn-color-unfitted-level-1) 1pt solid;\n",
       "  color: var(--sklearn-color-unfitted-level-1);\n",
       "}\n",
       "\n",
       ".sk-estimator-doc-link.fitted,\n",
       "a:link.sk-estimator-doc-link.fitted,\n",
       "a:visited.sk-estimator-doc-link.fitted {\n",
       "  /* fitted */\n",
       "  border: var(--sklearn-color-fitted-level-1) 1pt solid;\n",
       "  color: var(--sklearn-color-fitted-level-1);\n",
       "}\n",
       "\n",
       "/* On hover */\n",
       "div.sk-estimator:hover .sk-estimator-doc-link:hover,\n",
       ".sk-estimator-doc-link:hover,\n",
       "div.sk-label-container:hover .sk-estimator-doc-link:hover,\n",
       ".sk-estimator-doc-link:hover {\n",
       "  /* unfitted */\n",
       "  background-color: var(--sklearn-color-unfitted-level-3);\n",
       "  color: var(--sklearn-color-background);\n",
       "  text-decoration: none;\n",
       "}\n",
       "\n",
       "div.sk-estimator.fitted:hover .sk-estimator-doc-link.fitted:hover,\n",
       ".sk-estimator-doc-link.fitted:hover,\n",
       "div.sk-label-container:hover .sk-estimator-doc-link.fitted:hover,\n",
       ".sk-estimator-doc-link.fitted:hover {\n",
       "  /* fitted */\n",
       "  background-color: var(--sklearn-color-fitted-level-3);\n",
       "  color: var(--sklearn-color-background);\n",
       "  text-decoration: none;\n",
       "}\n",
       "\n",
       "/* Span, style for the box shown on hovering the info icon */\n",
       ".sk-estimator-doc-link span {\n",
       "  display: none;\n",
       "  z-index: 9999;\n",
       "  position: relative;\n",
       "  font-weight: normal;\n",
       "  right: .2ex;\n",
       "  padding: .5ex;\n",
       "  margin: .5ex;\n",
       "  width: min-content;\n",
       "  min-width: 20ex;\n",
       "  max-width: 50ex;\n",
       "  color: var(--sklearn-color-text);\n",
       "  box-shadow: 2pt 2pt 4pt #999;\n",
       "  /* unfitted */\n",
       "  background: var(--sklearn-color-unfitted-level-0);\n",
       "  border: .5pt solid var(--sklearn-color-unfitted-level-3);\n",
       "}\n",
       "\n",
       ".sk-estimator-doc-link.fitted span {\n",
       "  /* fitted */\n",
       "  background: var(--sklearn-color-fitted-level-0);\n",
       "  border: var(--sklearn-color-fitted-level-3);\n",
       "}\n",
       "\n",
       ".sk-estimator-doc-link:hover span {\n",
       "  display: block;\n",
       "}\n",
       "\n",
       "/* \"?\"-specific style due to the `<a>` HTML tag */\n",
       "\n",
       "#sk-container-id-1 a.estimator_doc_link {\n",
       "  float: right;\n",
       "  font-size: 1rem;\n",
       "  line-height: 1em;\n",
       "  font-family: monospace;\n",
       "  background-color: var(--sklearn-color-background);\n",
       "  border-radius: 1rem;\n",
       "  height: 1rem;\n",
       "  width: 1rem;\n",
       "  text-decoration: none;\n",
       "  /* unfitted */\n",
       "  color: var(--sklearn-color-unfitted-level-1);\n",
       "  border: var(--sklearn-color-unfitted-level-1) 1pt solid;\n",
       "}\n",
       "\n",
       "#sk-container-id-1 a.estimator_doc_link.fitted {\n",
       "  /* fitted */\n",
       "  border: var(--sklearn-color-fitted-level-1) 1pt solid;\n",
       "  color: var(--sklearn-color-fitted-level-1);\n",
       "}\n",
       "\n",
       "/* On hover */\n",
       "#sk-container-id-1 a.estimator_doc_link:hover {\n",
       "  /* unfitted */\n",
       "  background-color: var(--sklearn-color-unfitted-level-3);\n",
       "  color: var(--sklearn-color-background);\n",
       "  text-decoration: none;\n",
       "}\n",
       "\n",
       "#sk-container-id-1 a.estimator_doc_link.fitted:hover {\n",
       "  /* fitted */\n",
       "  background-color: var(--sklearn-color-fitted-level-3);\n",
       "}\n",
       "</style><div id=\"sk-container-id-1\" class=\"sk-top-container\"><div class=\"sk-text-repr-fallback\"><pre>RandomizedSearchCV(estimator=DecisionTreeClassifier(random_state=42), n_jobs=-1,\n",
       "                   param_distributions={&#x27;criterion&#x27;: [&#x27;gini&#x27;, &#x27;entropy&#x27;],\n",
       "                                        &#x27;max_depth&#x27;: [2, 3, 5, 10, 20],\n",
       "                                        &#x27;min_samples_leaf&#x27;: [5, 10, 20, 50,\n",
       "                                                             100]},\n",
       "                   random_state=42, verbose=10)</pre><b>In a Jupyter environment, please rerun this cell to show the HTML representation or trust the notebook. <br />On GitHub, the HTML representation is unable to render, please try loading this page with nbviewer.org.</b></div><div class=\"sk-container\" hidden><div class=\"sk-item sk-dashed-wrapped\"><div class=\"sk-label-container\"><div class=\"sk-label fitted sk-toggleable\"><input class=\"sk-toggleable__control sk-hidden--visually\" id=\"sk-estimator-id-1\" type=\"checkbox\" ><label for=\"sk-estimator-id-1\" class=\"sk-toggleable__label fitted sk-toggleable__label-arrow fitted\">&nbsp;&nbsp;RandomizedSearchCV<a class=\"sk-estimator-doc-link fitted\" rel=\"noreferrer\" target=\"_blank\" href=\"https://scikit-learn.org/1.4/modules/generated/sklearn.model_selection.RandomizedSearchCV.html\">?<span>Documentation for RandomizedSearchCV</span></a><span class=\"sk-estimator-doc-link fitted\">i<span>Fitted</span></span></label><div class=\"sk-toggleable__content fitted\"><pre>RandomizedSearchCV(estimator=DecisionTreeClassifier(random_state=42), n_jobs=-1,\n",
       "                   param_distributions={&#x27;criterion&#x27;: [&#x27;gini&#x27;, &#x27;entropy&#x27;],\n",
       "                                        &#x27;max_depth&#x27;: [2, 3, 5, 10, 20],\n",
       "                                        &#x27;min_samples_leaf&#x27;: [5, 10, 20, 50,\n",
       "                                                             100]},\n",
       "                   random_state=42, verbose=10)</pre></div> </div></div><div class=\"sk-parallel\"><div class=\"sk-parallel-item\"><div class=\"sk-item\"><div class=\"sk-label-container\"><div class=\"sk-label fitted sk-toggleable\"><input class=\"sk-toggleable__control sk-hidden--visually\" id=\"sk-estimator-id-2\" type=\"checkbox\" ><label for=\"sk-estimator-id-2\" class=\"sk-toggleable__label fitted sk-toggleable__label-arrow fitted\">estimator: DecisionTreeClassifier</label><div class=\"sk-toggleable__content fitted\"><pre>DecisionTreeClassifier(random_state=42)</pre></div> </div></div><div class=\"sk-serial\"><div class=\"sk-item\"><div class=\"sk-estimator fitted sk-toggleable\"><input class=\"sk-toggleable__control sk-hidden--visually\" id=\"sk-estimator-id-3\" type=\"checkbox\" ><label for=\"sk-estimator-id-3\" class=\"sk-toggleable__label fitted sk-toggleable__label-arrow fitted\">&nbsp;DecisionTreeClassifier<a class=\"sk-estimator-doc-link fitted\" rel=\"noreferrer\" target=\"_blank\" href=\"https://scikit-learn.org/1.4/modules/generated/sklearn.tree.DecisionTreeClassifier.html\">?<span>Documentation for DecisionTreeClassifier</span></a></label><div class=\"sk-toggleable__content fitted\"><pre>DecisionTreeClassifier(random_state=42)</pre></div> </div></div></div></div></div></div></div></div></div>"
      ],
      "text/plain": [
       "RandomizedSearchCV(estimator=DecisionTreeClassifier(random_state=42), n_jobs=-1,\n",
       "                   param_distributions={'criterion': ['gini', 'entropy'],\n",
       "                                        'max_depth': [2, 3, 5, 10, 20],\n",
       "                                        'min_samples_leaf': [5, 10, 20, 50,\n",
       "                                                             100]},\n",
       "                   random_state=42, verbose=10)"
      ]
     },
     "execution_count": 54,
     "metadata": {},
     "output_type": "execute_result"
    }
   ],
   "source": [
    "DT = DecisionTreeClassifier(random_state=42)\n",
    "params = {\n",
    "    'max_depth': [2, 3, 5, 10, 20],\n",
    "    'min_samples_leaf': [5, 10, 20, 50, 100],\n",
    "    'criterion': [\"gini\", \"entropy\"]\n",
    "}\n",
    "random_dt=RandomizedSearchCV(DT,param_distributions=params,verbose=10,n_jobs=-1,random_state=42)\n",
    "random_dt.fit(result_kbest_20,y1_enco)"
   ]
  },
  {
   "cell_type": "code",
   "execution_count": 55,
   "metadata": {},
   "outputs": [
    {
     "name": "stdout",
     "output_type": "stream",
     "text": [
      "DecisionTreeClassifier(max_depth=10, min_samples_leaf=20, random_state=42)\n"
     ]
    }
   ],
   "source": [
    "print(random_dt.best_estimator_)"
   ]
  },
  {
   "cell_type": "code",
   "execution_count": 56,
   "metadata": {},
   "outputs": [
    {
     "name": "stdout",
     "output_type": "stream",
     "text": [
      "0.6519797824737152\n"
     ]
    }
   ],
   "source": [
    "print(random_dt.best_score_)"
   ]
  },
  {
   "cell_type": "code",
   "execution_count": 57,
   "metadata": {},
   "outputs": [
    {
     "name": "stdout",
     "output_type": "stream",
     "text": [
      "The train f1_macro is: 0.689088508398342\n",
      "The cross validation f1_macro is: 0.5437839463544835\n"
     ]
    }
   ],
   "source": [
    "DT = DecisionTreeClassifier(max_depth=20,min_samples_leaf=50,random_state=42)\n",
    "DT.fit(result_kbest_20,y1_enco)\n",
    "cal_clf = CalibratedClassifierCV(DT, method=\"sigmoid\")\n",
    "cal_clf.fit(result_kbest_20,y1_enco)\n",
    "predict_y =cal_clf .predict(result_kbest_20)\n",
    "print ('The train f1_macro is:',f1_score(y1_enco, predict_y,average='macro'))\n",
    "predict_y = cal_clf.predict(result_kbest_val)\n",
    "print('The cross validation f1_macro is:',f1_score(y1_en_val, predict_y,average='macro'))"
   ]
  },
  {
   "cell_type": "code",
   "execution_count": 58,
   "metadata": {},
   "outputs": [
    {
     "name": "stdout",
     "output_type": "stream",
     "text": [
      "Fitting 5 folds for each of 10 candidates, totalling 50 fits\n",
      "Best Parameters: {'n_estimators': 1800, 'min_samples_split': 2, 'min_samples_leaf': 4, 'max_features': 'sqrt', 'max_depth': 20, 'bootstrap': False}\n",
      "Best Score: 0.6987043931849959\n"
     ]
    }
   ],
   "source": [
    "from sklearn.ensemble import RandomForestClassifier\n",
    "from sklearn.model_selection import RandomizedSearchCV\n",
    "\n",
    "# Initialize the RandomForestClassifier\n",
    "rfc = RandomForestClassifier(random_state=42)\n",
    "\n",
    "# Define the parameter grid\n",
    "params1 = {\n",
    "    'bootstrap': [True, False],\n",
    "    'max_depth': [10, 20, 30, 40, 50, 60],\n",
    "    'max_features': [None, 'sqrt', 'log2'],  # 'auto' replaced with None\n",
    "    'min_samples_leaf': [1, 2, 4],\n",
    "    'min_samples_split': [2, 5, 10],\n",
    "    'n_estimators': [600, 800, 1000, 1200, 1400, 1600, 1800, 2000]\n",
    "}\n",
    "\n",
    "# Initialize RandomizedSearchCV\n",
    "random_rfc = RandomizedSearchCV(rfc, param_distributions=params1, n_iter=10, cv=5, verbose=10, n_jobs=-1, random_state=42)\n",
    "\n",
    "# Fit the model\n",
    "random_rfc.fit(result_kbest_20, y1_enco)\n",
    "\n",
    "# Display the best parameters and the best score\n",
    "print(\"Best Parameters:\", random_rfc.best_params_)\n",
    "print(\"Best Score:\", random_rfc.best_score_)\n"
   ]
  },
  {
   "cell_type": "code",
   "execution_count": 59,
   "metadata": {},
   "outputs": [
    {
     "name": "stdout",
     "output_type": "stream",
     "text": [
      "RandomForestClassifier(bootstrap=False, max_depth=20, min_samples_leaf=4,\n",
      "                       n_estimators=1800, random_state=42)\n"
     ]
    }
   ],
   "source": [
    "print(random_rfc.best_estimator_)"
   ]
  },
  {
   "cell_type": "code",
   "execution_count": 60,
   "metadata": {},
   "outputs": [
    {
     "name": "stdout",
     "output_type": "stream",
     "text": [
      "0.6987043931849959\n"
     ]
    }
   ],
   "source": [
    "print(random_rfc.best_score_)"
   ]
  },
  {
   "cell_type": "code",
   "execution_count": 61,
   "metadata": {},
   "outputs": [
    {
     "name": "stdout",
     "output_type": "stream",
     "text": [
      "The train f1_macro is: 0.9086856180566126\n",
      "The cross validation f1_macro is: 0.520537270192911\n"
     ]
    }
   ],
   "source": [
    "rfc = RandomForestClassifier(n_estimators=1800,max_depth=20,max_features='sqrt',bootstrap=False, min_samples_leaf=2, min_samples_split=10,random_state=42)\n",
    "rfc.fit(result_kbest_20,y1_enco)\n",
    "cal_clf = CalibratedClassifierCV(rfc, method=\"sigmoid\")\n",
    "cal_clf.fit(result_kbest_20,y1_enco)\n",
    "predict_y =cal_clf .predict(result_kbest_20)\n",
    "print ('The train f1_macro is:',f1_score(y1_enco, predict_y,average='macro'))\n",
    "predict_y = cal_clf.predict(result_kbest_val)\n",
    "print('The cross validation f1_macro is:',f1_score(y1_en_val, predict_y,average='macro'))"
   ]
  },
  {
   "cell_type": "code",
   "execution_count": 62,
   "metadata": {},
   "outputs": [],
   "source": [
    "from imblearn.over_sampling import BorderlineSMOTE"
   ]
  },
  {
   "cell_type": "code",
   "execution_count": 63,
   "metadata": {},
   "outputs": [
    {
     "name": "stdout",
     "output_type": "stream",
     "text": [
      "shape of X before SMOTE: (13728, 47) \n",
      "shape of X after SMOTE: (31923, 47)\n",
      "balanced class (%):\n"
     ]
    },
    {
     "data": {
      "text/plain": [
       "0\n",
       "0    11.111111\n",
       "1    11.111111\n",
       "2    11.111111\n",
       "3    11.111111\n",
       "4    11.111111\n",
       "5    11.111111\n",
       "6    11.111111\n",
       "7    11.111111\n",
       "8    11.111111\n",
       "Name: proportion, dtype: float64"
      ]
     },
     "execution_count": 63,
     "metadata": {},
     "output_type": "execute_result"
    }
   ],
   "source": [
    "smd=BorderlineSMOTE(random_state=42)\n",
    "X_smd, y_smd = smd.fit_resample(X2, pd.DataFrame(y2_en))\n",
    "print(f'''shape of X before SMOTE: {X2.shape} \n",
    "shape of X after SMOTE: {X_smd.shape}''')\n",
    "print('balanced class (%):')\n",
    "y_smd.value_counts(normalize=True) * 100"
   ]
  },
  {
   "cell_type": "code",
   "execution_count": 64,
   "metadata": {},
   "outputs": [
    {
     "data": {
      "text/html": [
       "<div>\n",
       "<style scoped>\n",
       "    .dataframe tbody tr th:only-of-type {\n",
       "        vertical-align: middle;\n",
       "    }\n",
       "\n",
       "    .dataframe tbody tr th {\n",
       "        vertical-align: top;\n",
       "    }\n",
       "\n",
       "    .dataframe thead th {\n",
       "        text-align: right;\n",
       "    }\n",
       "</style>\n",
       "<table border=\"1\" class=\"dataframe\">\n",
       "  <thead>\n",
       "    <tr style=\"text-align: right;\">\n",
       "      <th></th>\n",
       "      <th>patient_age</th>\n",
       "      <th>defective_mother</th>\n",
       "      <th>defective_father</th>\n",
       "      <th>maternal_gene</th>\n",
       "      <th>paternal_gene</th>\n",
       "      <th>blood_cell_count</th>\n",
       "      <th>mother_age</th>\n",
       "      <th>father_age</th>\n",
       "      <th>Status</th>\n",
       "      <th>respiratory_rate</th>\n",
       "      <th>...</th>\n",
       "      <th>radiation_exposure_Yes</th>\n",
       "      <th>radiation_exposure_others</th>\n",
       "      <th>substance_abuse_No</th>\n",
       "      <th>substance_abuse_Not applicable</th>\n",
       "      <th>substance_abuse_Yes</th>\n",
       "      <th>substance_abuse_others</th>\n",
       "      <th>blood_test_result_abnormal</th>\n",
       "      <th>blood_test_result_inconclusive</th>\n",
       "      <th>blood_test_result_normal</th>\n",
       "      <th>blood_test_result_slightly abnormal</th>\n",
       "    </tr>\n",
       "  </thead>\n",
       "  <tbody>\n",
       "    <tr>\n",
       "      <th>0</th>\n",
       "      <td>0.000000</td>\n",
       "      <td>1.0</td>\n",
       "      <td>1.0</td>\n",
       "      <td>1.0</td>\n",
       "      <td>0.0</td>\n",
       "      <td>0.838325</td>\n",
       "      <td>0.515152</td>\n",
       "      <td>0.590909</td>\n",
       "      <td>1.0</td>\n",
       "      <td>1.0</td>\n",
       "      <td>...</td>\n",
       "      <td>0.0</td>\n",
       "      <td>1.0</td>\n",
       "      <td>0.0</td>\n",
       "      <td>0.0</td>\n",
       "      <td>0.0</td>\n",
       "      <td>1.0</td>\n",
       "      <td>0.0</td>\n",
       "      <td>0.0</td>\n",
       "      <td>0.0</td>\n",
       "      <td>1.0</td>\n",
       "    </tr>\n",
       "    <tr>\n",
       "      <th>1</th>\n",
       "      <td>0.428571</td>\n",
       "      <td>0.0</td>\n",
       "      <td>1.0</td>\n",
       "      <td>0.0</td>\n",
       "      <td>0.0</td>\n",
       "      <td>0.814047</td>\n",
       "      <td>0.363636</td>\n",
       "      <td>0.386364</td>\n",
       "      <td>1.0</td>\n",
       "      <td>0.0</td>\n",
       "      <td>...</td>\n",
       "      <td>0.0</td>\n",
       "      <td>0.0</td>\n",
       "      <td>0.0</td>\n",
       "      <td>1.0</td>\n",
       "      <td>0.0</td>\n",
       "      <td>0.0</td>\n",
       "      <td>0.0</td>\n",
       "      <td>0.0</td>\n",
       "      <td>0.0</td>\n",
       "      <td>1.0</td>\n",
       "    </tr>\n",
       "  </tbody>\n",
       "</table>\n",
       "<p>2 rows × 47 columns</p>\n",
       "</div>"
      ],
      "text/plain": [
       "   patient_age  defective_mother  defective_father  maternal_gene  \\\n",
       "0     0.000000               1.0               1.0            1.0   \n",
       "1     0.428571               0.0               1.0            0.0   \n",
       "\n",
       "   paternal_gene  blood_cell_count  mother_age  father_age  Status  \\\n",
       "0            0.0          0.838325    0.515152    0.590909     1.0   \n",
       "1            0.0          0.814047    0.363636    0.386364     1.0   \n",
       "\n",
       "   respiratory_rate  ...  radiation_exposure_Yes  radiation_exposure_others  \\\n",
       "0               1.0  ...                     0.0                        1.0   \n",
       "1               0.0  ...                     0.0                        0.0   \n",
       "\n",
       "   substance_abuse_No  substance_abuse_Not applicable  substance_abuse_Yes  \\\n",
       "0                 0.0                             0.0                  0.0   \n",
       "1                 0.0                             1.0                  0.0   \n",
       "\n",
       "   substance_abuse_others  blood_test_result_abnormal  \\\n",
       "0                     1.0                         0.0   \n",
       "1                     0.0                         0.0   \n",
       "\n",
       "   blood_test_result_inconclusive  blood_test_result_normal  \\\n",
       "0                             0.0                       0.0   \n",
       "1                             0.0                       0.0   \n",
       "\n",
       "   blood_test_result_slightly abnormal  \n",
       "0                                  1.0  \n",
       "1                                  1.0  \n",
       "\n",
       "[2 rows x 47 columns]"
      ]
     },
     "execution_count": 64,
     "metadata": {},
     "output_type": "execute_result"
    }
   ],
   "source": [
    "X_smd.head(2)\n"
   ]
  },
  {
   "cell_type": "code",
   "execution_count": 65,
   "metadata": {},
   "outputs": [],
   "source": [
    "y2_enco=np.array(y_smd).ravel()"
   ]
  },
  {
   "cell_type": "code",
   "execution_count": 66,
   "metadata": {},
   "outputs": [],
   "source": [
    "from sklearn.feature_selection import SelectKBest,chi2"
   ]
  },
  {
   "cell_type": "code",
   "execution_count": 67,
   "metadata": {},
   "outputs": [],
   "source": [
    "# feature selection \n",
    "sel2=SelectKBest(chi2, k=25).fit(X_smd,y2_enco)"
   ]
  },
  {
   "cell_type": "code",
   "execution_count": 68,
   "metadata": {},
   "outputs": [
    {
     "name": "stdout",
     "output_type": "stream",
     "text": [
      "(31923, 25)\n"
     ]
    }
   ],
   "source": [
    "cols=sel2.get_support(indices=True)\n",
    "print(X_smd.iloc[:,cols].shape)\n",
    "result_kbest_20d=X_smd.iloc[:,cols]"
   ]
  },
  {
   "cell_type": "code",
   "execution_count": 69,
   "metadata": {},
   "outputs": [
    {
     "name": "stdout",
     "output_type": "stream",
     "text": [
      "Index(['defective_mother', 'defective_father', 'maternal_gene',\n",
      "       'paternal_gene', 'Status', 'heart_rate', 'birth_place', 'birth_defects',\n",
      "       'Symptom 2', 'Symptom 3', 'Symptom 5', 'Gender_Ambiguous',\n",
      "       'Gender_Male', 'birth_asphyxia_No record',\n",
      "       'birth_asphyxia_Not available', 'birth_defect_autopsy_Yes',\n",
      "       'radiation_exposure_No', 'radiation_exposure_Not applicable',\n",
      "       'radiation_exposure_Yes', 'substance_abuse_Yes',\n",
      "       'substance_abuse_others', 'blood_test_result_abnormal',\n",
      "       'blood_test_result_inconclusive', 'blood_test_result_normal',\n",
      "       'blood_test_result_slightly abnormal'],\n",
      "      dtype='object')\n"
     ]
    }
   ],
   "source": [
    "sele_fead= X2.columns[(sel2.get_support())]\n",
    "print(sele_fead)"
   ]
  },
  {
   "cell_type": "code",
   "execution_count": 70,
   "metadata": {},
   "outputs": [
    {
     "name": "stdout",
     "output_type": "stream",
     "text": [
      "(3432, 25)\n"
     ]
    }
   ],
   "source": [
    "print(X2_val.iloc[:,cols].shape)\n",
    "result_kbest_vald=X2_val.iloc[:,cols]"
   ]
  },
  {
   "cell_type": "code",
   "execution_count": 71,
   "metadata": {},
   "outputs": [
    {
     "name": "stdout",
     "output_type": "stream",
     "text": [
      "(9290, 25)\n"
     ]
    }
   ],
   "source": [
    "print(X2_test.iloc[:,cols].shape)\n",
    "result_kbest_test20d=X2_test.iloc[:,cols]"
   ]
  },
  {
   "cell_type": "code",
   "execution_count": 72,
   "metadata": {},
   "outputs": [
    {
     "name": "stdout",
     "output_type": "stream",
     "text": [
      "f1_macro for k =  1 is 0.10837635969771878\n",
      "f1_macro for k =  3 is 0.1102133949410753\n",
      "f1_macro for k =  5 is 0.10512851748042622\n",
      "f1_macro for k =  7 is 0.1031119692950127\n",
      "f1_macro for k =  9 is 0.10165848804850192\n",
      "f1_macro for k =  11 is 0.10542961989708323\n",
      "f1_macro for k =  13 is 0.10623439546518097\n",
      "For values of best nn =  3 The train f1_macro is: 0.8349824428854985\n",
      "For values of best nn =  3 The cross validation f1_macro is: 0.1102133949410753\n"
     ]
    }
   ],
   "source": [
    "nn=[x for x in range(1, 15, 2)]\n",
    "cv_f1_macro=[]\n",
    "for i in nn:\n",
    "    knn=KNeighborsClassifier(n_neighbors=i,n_jobs=-1)\n",
    "    knn.fit(result_kbest_20d,y2_enco)\n",
    "    cal_clf = CalibratedClassifierCV(knn, method=\"sigmoid\")\n",
    "    cal_clf.fit(result_kbest_20d,y2_enco)\n",
    "    predict_y=cal_clf.predict(result_kbest_vald)\n",
    "    cv_f1_macro.append(f1_score(y2_en_val, predict_y,average='macro'))\n",
    "for i in range(len(cv_f1_macro)):\n",
    "    print ('f1_macro for k = ',nn[i],'is',cv_f1_macro[i])\n",
    "best_nn = np.argmax(cv_f1_macro)\n",
    "knn=KNeighborsClassifier(n_neighbors=nn[best_nn])\n",
    "knn.fit(result_kbest_20d,y2_enco)\n",
    "cal_clf = CalibratedClassifierCV(knn, method=\"sigmoid\")\n",
    "cal_clf.fit(result_kbest_20d,y2_enco)\n",
    "\n",
    "predict_y =cal_clf .predict(result_kbest_20d)\n",
    "print ('For values of best nn = ', nn[best_nn], \"The train f1_macro is:\",f1_score(y2_enco, predict_y,average='macro'))\n",
    "predict_y = cal_clf.predict(result_kbest_vald)\n",
    "print('For values of best nn = ', nn[best_nn], \"The cross validation f1_macro is:\",f1_score(y2_en_val, predict_y,average='macro'))"
   ]
  },
  {
   "cell_type": "code",
   "execution_count": 73,
   "metadata": {},
   "outputs": [
    {
     "data": {
      "text/html": [
       "<style>#sk-container-id-2 {\n",
       "  /* Definition of color scheme common for light and dark mode */\n",
       "  --sklearn-color-text: black;\n",
       "  --sklearn-color-line: gray;\n",
       "  /* Definition of color scheme for unfitted estimators */\n",
       "  --sklearn-color-unfitted-level-0: #fff5e6;\n",
       "  --sklearn-color-unfitted-level-1: #f6e4d2;\n",
       "  --sklearn-color-unfitted-level-2: #ffe0b3;\n",
       "  --sklearn-color-unfitted-level-3: chocolate;\n",
       "  /* Definition of color scheme for fitted estimators */\n",
       "  --sklearn-color-fitted-level-0: #f0f8ff;\n",
       "  --sklearn-color-fitted-level-1: #d4ebff;\n",
       "  --sklearn-color-fitted-level-2: #b3dbfd;\n",
       "  --sklearn-color-fitted-level-3: cornflowerblue;\n",
       "\n",
       "  /* Specific color for light theme */\n",
       "  --sklearn-color-text-on-default-background: var(--sg-text-color, var(--theme-code-foreground, var(--jp-content-font-color1, black)));\n",
       "  --sklearn-color-background: var(--sg-background-color, var(--theme-background, var(--jp-layout-color0, white)));\n",
       "  --sklearn-color-border-box: var(--sg-text-color, var(--theme-code-foreground, var(--jp-content-font-color1, black)));\n",
       "  --sklearn-color-icon: #696969;\n",
       "\n",
       "  @media (prefers-color-scheme: dark) {\n",
       "    /* Redefinition of color scheme for dark theme */\n",
       "    --sklearn-color-text-on-default-background: var(--sg-text-color, var(--theme-code-foreground, var(--jp-content-font-color1, white)));\n",
       "    --sklearn-color-background: var(--sg-background-color, var(--theme-background, var(--jp-layout-color0, #111)));\n",
       "    --sklearn-color-border-box: var(--sg-text-color, var(--theme-code-foreground, var(--jp-content-font-color1, white)));\n",
       "    --sklearn-color-icon: #878787;\n",
       "  }\n",
       "}\n",
       "\n",
       "#sk-container-id-2 {\n",
       "  color: var(--sklearn-color-text);\n",
       "}\n",
       "\n",
       "#sk-container-id-2 pre {\n",
       "  padding: 0;\n",
       "}\n",
       "\n",
       "#sk-container-id-2 input.sk-hidden--visually {\n",
       "  border: 0;\n",
       "  clip: rect(1px 1px 1px 1px);\n",
       "  clip: rect(1px, 1px, 1px, 1px);\n",
       "  height: 1px;\n",
       "  margin: -1px;\n",
       "  overflow: hidden;\n",
       "  padding: 0;\n",
       "  position: absolute;\n",
       "  width: 1px;\n",
       "}\n",
       "\n",
       "#sk-container-id-2 div.sk-dashed-wrapped {\n",
       "  border: 1px dashed var(--sklearn-color-line);\n",
       "  margin: 0 0.4em 0.5em 0.4em;\n",
       "  box-sizing: border-box;\n",
       "  padding-bottom: 0.4em;\n",
       "  background-color: var(--sklearn-color-background);\n",
       "}\n",
       "\n",
       "#sk-container-id-2 div.sk-container {\n",
       "  /* jupyter's `normalize.less` sets `[hidden] { display: none; }`\n",
       "     but bootstrap.min.css set `[hidden] { display: none !important; }`\n",
       "     so we also need the `!important` here to be able to override the\n",
       "     default hidden behavior on the sphinx rendered scikit-learn.org.\n",
       "     See: https://github.com/scikit-learn/scikit-learn/issues/21755 */\n",
       "  display: inline-block !important;\n",
       "  position: relative;\n",
       "}\n",
       "\n",
       "#sk-container-id-2 div.sk-text-repr-fallback {\n",
       "  display: none;\n",
       "}\n",
       "\n",
       "div.sk-parallel-item,\n",
       "div.sk-serial,\n",
       "div.sk-item {\n",
       "  /* draw centered vertical line to link estimators */\n",
       "  background-image: linear-gradient(var(--sklearn-color-text-on-default-background), var(--sklearn-color-text-on-default-background));\n",
       "  background-size: 2px 100%;\n",
       "  background-repeat: no-repeat;\n",
       "  background-position: center center;\n",
       "}\n",
       "\n",
       "/* Parallel-specific style estimator block */\n",
       "\n",
       "#sk-container-id-2 div.sk-parallel-item::after {\n",
       "  content: \"\";\n",
       "  width: 100%;\n",
       "  border-bottom: 2px solid var(--sklearn-color-text-on-default-background);\n",
       "  flex-grow: 1;\n",
       "}\n",
       "\n",
       "#sk-container-id-2 div.sk-parallel {\n",
       "  display: flex;\n",
       "  align-items: stretch;\n",
       "  justify-content: center;\n",
       "  background-color: var(--sklearn-color-background);\n",
       "  position: relative;\n",
       "}\n",
       "\n",
       "#sk-container-id-2 div.sk-parallel-item {\n",
       "  display: flex;\n",
       "  flex-direction: column;\n",
       "}\n",
       "\n",
       "#sk-container-id-2 div.sk-parallel-item:first-child::after {\n",
       "  align-self: flex-end;\n",
       "  width: 50%;\n",
       "}\n",
       "\n",
       "#sk-container-id-2 div.sk-parallel-item:last-child::after {\n",
       "  align-self: flex-start;\n",
       "  width: 50%;\n",
       "}\n",
       "\n",
       "#sk-container-id-2 div.sk-parallel-item:only-child::after {\n",
       "  width: 0;\n",
       "}\n",
       "\n",
       "/* Serial-specific style estimator block */\n",
       "\n",
       "#sk-container-id-2 div.sk-serial {\n",
       "  display: flex;\n",
       "  flex-direction: column;\n",
       "  align-items: center;\n",
       "  background-color: var(--sklearn-color-background);\n",
       "  padding-right: 1em;\n",
       "  padding-left: 1em;\n",
       "}\n",
       "\n",
       "\n",
       "/* Toggleable style: style used for estimator/Pipeline/ColumnTransformer box that is\n",
       "clickable and can be expanded/collapsed.\n",
       "- Pipeline and ColumnTransformer use this feature and define the default style\n",
       "- Estimators will overwrite some part of the style using the `sk-estimator` class\n",
       "*/\n",
       "\n",
       "/* Pipeline and ColumnTransformer style (default) */\n",
       "\n",
       "#sk-container-id-2 div.sk-toggleable {\n",
       "  /* Default theme specific background. It is overwritten whether we have a\n",
       "  specific estimator or a Pipeline/ColumnTransformer */\n",
       "  background-color: var(--sklearn-color-background);\n",
       "}\n",
       "\n",
       "/* Toggleable label */\n",
       "#sk-container-id-2 label.sk-toggleable__label {\n",
       "  cursor: pointer;\n",
       "  display: block;\n",
       "  width: 100%;\n",
       "  margin-bottom: 0;\n",
       "  padding: 0.5em;\n",
       "  box-sizing: border-box;\n",
       "  text-align: center;\n",
       "}\n",
       "\n",
       "#sk-container-id-2 label.sk-toggleable__label-arrow:before {\n",
       "  /* Arrow on the left of the label */\n",
       "  content: \"▸\";\n",
       "  float: left;\n",
       "  margin-right: 0.25em;\n",
       "  color: var(--sklearn-color-icon);\n",
       "}\n",
       "\n",
       "#sk-container-id-2 label.sk-toggleable__label-arrow:hover:before {\n",
       "  color: var(--sklearn-color-text);\n",
       "}\n",
       "\n",
       "/* Toggleable content - dropdown */\n",
       "\n",
       "#sk-container-id-2 div.sk-toggleable__content {\n",
       "  max-height: 0;\n",
       "  max-width: 0;\n",
       "  overflow: hidden;\n",
       "  text-align: left;\n",
       "  /* unfitted */\n",
       "  background-color: var(--sklearn-color-unfitted-level-0);\n",
       "}\n",
       "\n",
       "#sk-container-id-2 div.sk-toggleable__content.fitted {\n",
       "  /* fitted */\n",
       "  background-color: var(--sklearn-color-fitted-level-0);\n",
       "}\n",
       "\n",
       "#sk-container-id-2 div.sk-toggleable__content pre {\n",
       "  margin: 0.2em;\n",
       "  border-radius: 0.25em;\n",
       "  color: var(--sklearn-color-text);\n",
       "  /* unfitted */\n",
       "  background-color: var(--sklearn-color-unfitted-level-0);\n",
       "}\n",
       "\n",
       "#sk-container-id-2 div.sk-toggleable__content.fitted pre {\n",
       "  /* unfitted */\n",
       "  background-color: var(--sklearn-color-fitted-level-0);\n",
       "}\n",
       "\n",
       "#sk-container-id-2 input.sk-toggleable__control:checked~div.sk-toggleable__content {\n",
       "  /* Expand drop-down */\n",
       "  max-height: 200px;\n",
       "  max-width: 100%;\n",
       "  overflow: auto;\n",
       "}\n",
       "\n",
       "#sk-container-id-2 input.sk-toggleable__control:checked~label.sk-toggleable__label-arrow:before {\n",
       "  content: \"▾\";\n",
       "}\n",
       "\n",
       "/* Pipeline/ColumnTransformer-specific style */\n",
       "\n",
       "#sk-container-id-2 div.sk-label input.sk-toggleable__control:checked~label.sk-toggleable__label {\n",
       "  color: var(--sklearn-color-text);\n",
       "  background-color: var(--sklearn-color-unfitted-level-2);\n",
       "}\n",
       "\n",
       "#sk-container-id-2 div.sk-label.fitted input.sk-toggleable__control:checked~label.sk-toggleable__label {\n",
       "  background-color: var(--sklearn-color-fitted-level-2);\n",
       "}\n",
       "\n",
       "/* Estimator-specific style */\n",
       "\n",
       "/* Colorize estimator box */\n",
       "#sk-container-id-2 div.sk-estimator input.sk-toggleable__control:checked~label.sk-toggleable__label {\n",
       "  /* unfitted */\n",
       "  background-color: var(--sklearn-color-unfitted-level-2);\n",
       "}\n",
       "\n",
       "#sk-container-id-2 div.sk-estimator.fitted input.sk-toggleable__control:checked~label.sk-toggleable__label {\n",
       "  /* fitted */\n",
       "  background-color: var(--sklearn-color-fitted-level-2);\n",
       "}\n",
       "\n",
       "#sk-container-id-2 div.sk-label label.sk-toggleable__label,\n",
       "#sk-container-id-2 div.sk-label label {\n",
       "  /* The background is the default theme color */\n",
       "  color: var(--sklearn-color-text-on-default-background);\n",
       "}\n",
       "\n",
       "/* On hover, darken the color of the background */\n",
       "#sk-container-id-2 div.sk-label:hover label.sk-toggleable__label {\n",
       "  color: var(--sklearn-color-text);\n",
       "  background-color: var(--sklearn-color-unfitted-level-2);\n",
       "}\n",
       "\n",
       "/* Label box, darken color on hover, fitted */\n",
       "#sk-container-id-2 div.sk-label.fitted:hover label.sk-toggleable__label.fitted {\n",
       "  color: var(--sklearn-color-text);\n",
       "  background-color: var(--sklearn-color-fitted-level-2);\n",
       "}\n",
       "\n",
       "/* Estimator label */\n",
       "\n",
       "#sk-container-id-2 div.sk-label label {\n",
       "  font-family: monospace;\n",
       "  font-weight: bold;\n",
       "  display: inline-block;\n",
       "  line-height: 1.2em;\n",
       "}\n",
       "\n",
       "#sk-container-id-2 div.sk-label-container {\n",
       "  text-align: center;\n",
       "}\n",
       "\n",
       "/* Estimator-specific */\n",
       "#sk-container-id-2 div.sk-estimator {\n",
       "  font-family: monospace;\n",
       "  border: 1px dotted var(--sklearn-color-border-box);\n",
       "  border-radius: 0.25em;\n",
       "  box-sizing: border-box;\n",
       "  margin-bottom: 0.5em;\n",
       "  /* unfitted */\n",
       "  background-color: var(--sklearn-color-unfitted-level-0);\n",
       "}\n",
       "\n",
       "#sk-container-id-2 div.sk-estimator.fitted {\n",
       "  /* fitted */\n",
       "  background-color: var(--sklearn-color-fitted-level-0);\n",
       "}\n",
       "\n",
       "/* on hover */\n",
       "#sk-container-id-2 div.sk-estimator:hover {\n",
       "  /* unfitted */\n",
       "  background-color: var(--sklearn-color-unfitted-level-2);\n",
       "}\n",
       "\n",
       "#sk-container-id-2 div.sk-estimator.fitted:hover {\n",
       "  /* fitted */\n",
       "  background-color: var(--sklearn-color-fitted-level-2);\n",
       "}\n",
       "\n",
       "/* Specification for estimator info (e.g. \"i\" and \"?\") */\n",
       "\n",
       "/* Common style for \"i\" and \"?\" */\n",
       "\n",
       ".sk-estimator-doc-link,\n",
       "a:link.sk-estimator-doc-link,\n",
       "a:visited.sk-estimator-doc-link {\n",
       "  float: right;\n",
       "  font-size: smaller;\n",
       "  line-height: 1em;\n",
       "  font-family: monospace;\n",
       "  background-color: var(--sklearn-color-background);\n",
       "  border-radius: 1em;\n",
       "  height: 1em;\n",
       "  width: 1em;\n",
       "  text-decoration: none !important;\n",
       "  margin-left: 1ex;\n",
       "  /* unfitted */\n",
       "  border: var(--sklearn-color-unfitted-level-1) 1pt solid;\n",
       "  color: var(--sklearn-color-unfitted-level-1);\n",
       "}\n",
       "\n",
       ".sk-estimator-doc-link.fitted,\n",
       "a:link.sk-estimator-doc-link.fitted,\n",
       "a:visited.sk-estimator-doc-link.fitted {\n",
       "  /* fitted */\n",
       "  border: var(--sklearn-color-fitted-level-1) 1pt solid;\n",
       "  color: var(--sklearn-color-fitted-level-1);\n",
       "}\n",
       "\n",
       "/* On hover */\n",
       "div.sk-estimator:hover .sk-estimator-doc-link:hover,\n",
       ".sk-estimator-doc-link:hover,\n",
       "div.sk-label-container:hover .sk-estimator-doc-link:hover,\n",
       ".sk-estimator-doc-link:hover {\n",
       "  /* unfitted */\n",
       "  background-color: var(--sklearn-color-unfitted-level-3);\n",
       "  color: var(--sklearn-color-background);\n",
       "  text-decoration: none;\n",
       "}\n",
       "\n",
       "div.sk-estimator.fitted:hover .sk-estimator-doc-link.fitted:hover,\n",
       ".sk-estimator-doc-link.fitted:hover,\n",
       "div.sk-label-container:hover .sk-estimator-doc-link.fitted:hover,\n",
       ".sk-estimator-doc-link.fitted:hover {\n",
       "  /* fitted */\n",
       "  background-color: var(--sklearn-color-fitted-level-3);\n",
       "  color: var(--sklearn-color-background);\n",
       "  text-decoration: none;\n",
       "}\n",
       "\n",
       "/* Span, style for the box shown on hovering the info icon */\n",
       ".sk-estimator-doc-link span {\n",
       "  display: none;\n",
       "  z-index: 9999;\n",
       "  position: relative;\n",
       "  font-weight: normal;\n",
       "  right: .2ex;\n",
       "  padding: .5ex;\n",
       "  margin: .5ex;\n",
       "  width: min-content;\n",
       "  min-width: 20ex;\n",
       "  max-width: 50ex;\n",
       "  color: var(--sklearn-color-text);\n",
       "  box-shadow: 2pt 2pt 4pt #999;\n",
       "  /* unfitted */\n",
       "  background: var(--sklearn-color-unfitted-level-0);\n",
       "  border: .5pt solid var(--sklearn-color-unfitted-level-3);\n",
       "}\n",
       "\n",
       ".sk-estimator-doc-link.fitted span {\n",
       "  /* fitted */\n",
       "  background: var(--sklearn-color-fitted-level-0);\n",
       "  border: var(--sklearn-color-fitted-level-3);\n",
       "}\n",
       "\n",
       ".sk-estimator-doc-link:hover span {\n",
       "  display: block;\n",
       "}\n",
       "\n",
       "/* \"?\"-specific style due to the `<a>` HTML tag */\n",
       "\n",
       "#sk-container-id-2 a.estimator_doc_link {\n",
       "  float: right;\n",
       "  font-size: 1rem;\n",
       "  line-height: 1em;\n",
       "  font-family: monospace;\n",
       "  background-color: var(--sklearn-color-background);\n",
       "  border-radius: 1rem;\n",
       "  height: 1rem;\n",
       "  width: 1rem;\n",
       "  text-decoration: none;\n",
       "  /* unfitted */\n",
       "  color: var(--sklearn-color-unfitted-level-1);\n",
       "  border: var(--sklearn-color-unfitted-level-1) 1pt solid;\n",
       "}\n",
       "\n",
       "#sk-container-id-2 a.estimator_doc_link.fitted {\n",
       "  /* fitted */\n",
       "  border: var(--sklearn-color-fitted-level-1) 1pt solid;\n",
       "  color: var(--sklearn-color-fitted-level-1);\n",
       "}\n",
       "\n",
       "/* On hover */\n",
       "#sk-container-id-2 a.estimator_doc_link:hover {\n",
       "  /* unfitted */\n",
       "  background-color: var(--sklearn-color-unfitted-level-3);\n",
       "  color: var(--sklearn-color-background);\n",
       "  text-decoration: none;\n",
       "}\n",
       "\n",
       "#sk-container-id-2 a.estimator_doc_link.fitted:hover {\n",
       "  /* fitted */\n",
       "  background-color: var(--sklearn-color-fitted-level-3);\n",
       "}\n",
       "</style><div id=\"sk-container-id-2\" class=\"sk-top-container\"><div class=\"sk-text-repr-fallback\"><pre>RandomizedSearchCV(estimator=DecisionTreeClassifier(random_state=42), n_jobs=-1,\n",
       "                   param_distributions={&#x27;criterion&#x27;: [&#x27;gini&#x27;, &#x27;entropy&#x27;],\n",
       "                                        &#x27;max_depth&#x27;: [2, 3, 5, 10, 20],\n",
       "                                        &#x27;min_samples_leaf&#x27;: [10, 20, 50, 100]},\n",
       "                   random_state=42)</pre><b>In a Jupyter environment, please rerun this cell to show the HTML representation or trust the notebook. <br />On GitHub, the HTML representation is unable to render, please try loading this page with nbviewer.org.</b></div><div class=\"sk-container\" hidden><div class=\"sk-item sk-dashed-wrapped\"><div class=\"sk-label-container\"><div class=\"sk-label fitted sk-toggleable\"><input class=\"sk-toggleable__control sk-hidden--visually\" id=\"sk-estimator-id-4\" type=\"checkbox\" ><label for=\"sk-estimator-id-4\" class=\"sk-toggleable__label fitted sk-toggleable__label-arrow fitted\">&nbsp;&nbsp;RandomizedSearchCV<a class=\"sk-estimator-doc-link fitted\" rel=\"noreferrer\" target=\"_blank\" href=\"https://scikit-learn.org/1.4/modules/generated/sklearn.model_selection.RandomizedSearchCV.html\">?<span>Documentation for RandomizedSearchCV</span></a><span class=\"sk-estimator-doc-link fitted\">i<span>Fitted</span></span></label><div class=\"sk-toggleable__content fitted\"><pre>RandomizedSearchCV(estimator=DecisionTreeClassifier(random_state=42), n_jobs=-1,\n",
       "                   param_distributions={&#x27;criterion&#x27;: [&#x27;gini&#x27;, &#x27;entropy&#x27;],\n",
       "                                        &#x27;max_depth&#x27;: [2, 3, 5, 10, 20],\n",
       "                                        &#x27;min_samples_leaf&#x27;: [10, 20, 50, 100]},\n",
       "                   random_state=42)</pre></div> </div></div><div class=\"sk-parallel\"><div class=\"sk-parallel-item\"><div class=\"sk-item\"><div class=\"sk-label-container\"><div class=\"sk-label fitted sk-toggleable\"><input class=\"sk-toggleable__control sk-hidden--visually\" id=\"sk-estimator-id-5\" type=\"checkbox\" ><label for=\"sk-estimator-id-5\" class=\"sk-toggleable__label fitted sk-toggleable__label-arrow fitted\">estimator: DecisionTreeClassifier</label><div class=\"sk-toggleable__content fitted\"><pre>DecisionTreeClassifier(random_state=42)</pre></div> </div></div><div class=\"sk-serial\"><div class=\"sk-item\"><div class=\"sk-estimator fitted sk-toggleable\"><input class=\"sk-toggleable__control sk-hidden--visually\" id=\"sk-estimator-id-6\" type=\"checkbox\" ><label for=\"sk-estimator-id-6\" class=\"sk-toggleable__label fitted sk-toggleable__label-arrow fitted\">&nbsp;DecisionTreeClassifier<a class=\"sk-estimator-doc-link fitted\" rel=\"noreferrer\" target=\"_blank\" href=\"https://scikit-learn.org/1.4/modules/generated/sklearn.tree.DecisionTreeClassifier.html\">?<span>Documentation for DecisionTreeClassifier</span></a></label><div class=\"sk-toggleable__content fitted\"><pre>DecisionTreeClassifier(random_state=42)</pre></div> </div></div></div></div></div></div></div></div></div>"
      ],
      "text/plain": [
       "RandomizedSearchCV(estimator=DecisionTreeClassifier(random_state=42), n_jobs=-1,\n",
       "                   param_distributions={'criterion': ['gini', 'entropy'],\n",
       "                                        'max_depth': [2, 3, 5, 10, 20],\n",
       "                                        'min_samples_leaf': [10, 20, 50, 100]},\n",
       "                   random_state=42)"
      ]
     },
     "execution_count": 73,
     "metadata": {},
     "output_type": "execute_result"
    }
   ],
   "source": [
    "DT = DecisionTreeClassifier(random_state=42)\n",
    "params = {\n",
    "    'max_depth': [2, 3, 5, 10, 20],\n",
    "    'min_samples_leaf': [10, 20, 50, 100],\n",
    "    'criterion': [\"gini\", \"entropy\"]\n",
    "}\n",
    "random_dt=RandomizedSearchCV(DT,param_distributions=params,n_jobs=-1,random_state=42)\n",
    "random_dt.fit(result_kbest_20d,y2_enco)"
   ]
  },
  {
   "cell_type": "code",
   "execution_count": 74,
   "metadata": {},
   "outputs": [
    {
     "name": "stdout",
     "output_type": "stream",
     "text": [
      "DecisionTreeClassifier(max_depth=20, min_samples_leaf=10, random_state=42)\n"
     ]
    }
   ],
   "source": [
    "print(random_dt.best_estimator_)"
   ]
  },
  {
   "cell_type": "code",
   "execution_count": 75,
   "metadata": {},
   "outputs": [
    {
     "name": "stdout",
     "output_type": "stream",
     "text": [
      "0.4758032758089429\n"
     ]
    }
   ],
   "source": [
    "print(random_dt.best_score_)"
   ]
  },
  {
   "cell_type": "code",
   "execution_count": 76,
   "metadata": {},
   "outputs": [
    {
     "name": "stdout",
     "output_type": "stream",
     "text": [
      "The train f1_macro is: 0.700003228975909\n",
      "The cross validation f1_macro is: 0.10291920549336314\n"
     ]
    }
   ],
   "source": [
    "DT = DecisionTreeClassifier(max_depth=20,min_samples_leaf=10,random_state=42)\n",
    "DT.fit(result_kbest_20d,y2_enco)\n",
    "cal_clf = CalibratedClassifierCV(DT, method=\"sigmoid\")\n",
    "cal_clf.fit(result_kbest_20d,y2_enco)\n",
    "predict_y =cal_clf .predict(result_kbest_20d)\n",
    "print ('The train f1_macro is:',f1_score(y2_enco, predict_y,average='macro'))\n",
    "predict_y = cal_clf.predict(result_kbest_vald)\n",
    "print('The cross validation f1_macro is:',f1_score(y2_en_val, predict_y,average='macro'))"
   ]
  },
  {
   "cell_type": "code",
   "execution_count": 77,
   "metadata": {},
   "outputs": [
    {
     "name": "stdout",
     "output_type": "stream",
     "text": [
      "Best Parameters: {'n_estimators': 400, 'min_samples_split': 5, 'min_samples_leaf': 2, 'max_features': 'sqrt', 'max_depth': 60, 'bootstrap': False}\n",
      "Best Score: 0.6399836562824446\n"
     ]
    }
   ],
   "source": [
    "from sklearn.ensemble import RandomForestClassifier\n",
    "from sklearn.model_selection import RandomizedSearchCV\n",
    "\n",
    "# Initialize the RandomForestClassifier\n",
    "rfc1 = RandomForestClassifier(random_state=42)\n",
    "\n",
    "# Define the parameter grid\n",
    "params1 = {\n",
    "    'bootstrap': [True, False],\n",
    "    'max_depth': [10, 20, 30, 40, 50, 60],\n",
    "    'max_features': [None, 'sqrt'],  # 'auto' replaced with None\n",
    "    'min_samples_leaf': [1, 2, 4],\n",
    "    'min_samples_split': [2, 5, 10, 15],\n",
    "    'n_estimators': [200, 400, 500, 600, 800, 1000, 1200, 1400, 1600, 1800, 2000]\n",
    "}\n",
    "\n",
    "# Initialize RandomizedSearchCV\n",
    "random_rfc1 = RandomizedSearchCV(rfc1, param_distributions=params1, n_jobs=-1, random_state=42)\n",
    "\n",
    "# Fit the model\n",
    "random_rfc1.fit(result_kbest_20d, y2_enco)\n",
    "\n",
    "# Display the best parameters and the best score\n",
    "print(\"Best Parameters:\", random_rfc1.best_params_)\n",
    "print(\"Best Score:\", random_rfc1.best_score_)\n"
   ]
  },
  {
   "cell_type": "code",
   "execution_count": 78,
   "metadata": {},
   "outputs": [
    {
     "name": "stdout",
     "output_type": "stream",
     "text": [
      "RandomForestClassifier(bootstrap=False, max_depth=60, min_samples_leaf=2,\n",
      "                       min_samples_split=5, n_estimators=400, random_state=42)\n"
     ]
    }
   ],
   "source": [
    "print(random_rfc1.best_estimator_)"
   ]
  },
  {
   "cell_type": "code",
   "execution_count": 79,
   "metadata": {},
   "outputs": [
    {
     "name": "stdout",
     "output_type": "stream",
     "text": [
      "The train f1_macro is: 0.700003228975909\n",
      "The cross validation f1_macro is: 0.10291920549336314\n"
     ]
    }
   ],
   "source": [
    "DT = DecisionTreeClassifier(max_depth=20,min_samples_leaf=10,random_state=42)\n",
    "DT.fit(result_kbest_20d,y2_enco)\n",
    "cal_clf = CalibratedClassifierCV(DT, method=\"sigmoid\")\n",
    "cal_clf.fit(result_kbest_20d,y2_enco)\n",
    "predict_y =cal_clf .predict(result_kbest_20d)\n",
    "print ('The train f1_macro is:',f1_score(y2_enco, predict_y,average='macro'))\n",
    "predict_y = cal_clf.predict(result_kbest_vald)\n",
    "print('The cross validation f1_macro is:',f1_score(y2_en_val, predict_y,average='macro'))"
   ]
  },
  {
   "cell_type": "code",
   "execution_count": 80,
   "metadata": {},
   "outputs": [
    {
     "name": "stdout",
     "output_type": "stream",
     "text": [
      "Fitting 5 folds for each of 10 candidates, totalling 50 fits\n",
      "Best Parameters: {'n_estimators': 400, 'min_samples_split': 5, 'min_samples_leaf': 2, 'max_features': 'sqrt', 'max_depth': 60, 'bootstrap': False}\n",
      "Best Score: 0.6399836562824446\n"
     ]
    }
   ],
   "source": [
    "from sklearn.ensemble import RandomForestClassifier\n",
    "from sklearn.model_selection import RandomizedSearchCV\n",
    "\n",
    "# Initialize the RandomForestClassifier\n",
    "rfc1 = RandomForestClassifier(random_state=42)\n",
    "\n",
    "# Define the parameter grid\n",
    "params1 = {\n",
    "    'bootstrap': [True, False],\n",
    "    'max_depth': [10, 20, 30, 40, 50, 60],\n",
    "    'max_features': [None, 'sqrt'],  # 'auto' replaced with None\n",
    "    'min_samples_leaf': [1, 2, 4],\n",
    "    'min_samples_split': [2, 5, 10, 15],\n",
    "    'n_estimators': [200, 400, 500, 600, 800, 1000, 1200, 1400, 1600, 1800, 2000]\n",
    "}\n",
    "\n",
    "# Initialize RandomizedSearchCV\n",
    "random_rfc1 = RandomizedSearchCV(rfc1, param_distributions=params1, n_jobs=-1, random_state=42, verbose=10)\n",
    "\n",
    "# Fit the model\n",
    "random_rfc1.fit(result_kbest_20d, y2_enco)\n",
    "\n",
    "# Display the best parameters and the best score\n",
    "print(\"Best Parameters:\", random_rfc1.best_params_)\n",
    "print(\"Best Score:\", random_rfc1.best_score_)\n"
   ]
  },
  {
   "cell_type": "code",
   "execution_count": 81,
   "metadata": {},
   "outputs": [
    {
     "name": "stdout",
     "output_type": "stream",
     "text": [
      "RandomForestClassifier(bootstrap=False, max_depth=60, min_samples_leaf=2,\n",
      "                       min_samples_split=5, n_estimators=400, random_state=42)\n"
     ]
    }
   ],
   "source": [
    "print(random_rfc1.best_estimator_)"
   ]
  },
  {
   "cell_type": "code",
   "execution_count": 82,
   "metadata": {},
   "outputs": [
    {
     "name": "stdout",
     "output_type": "stream",
     "text": [
      "0.6399836562824446\n"
     ]
    }
   ],
   "source": [
    "print(random_rfc1.best_score_)"
   ]
  },
  {
   "cell_type": "code",
   "execution_count": 83,
   "metadata": {},
   "outputs": [
    {
     "name": "stdout",
     "output_type": "stream",
     "text": [
      "The train f1_macro is: 0.9886766794048193\n",
      "The cross validation f1_macro is: 0.10581450897552987\n"
     ]
    }
   ],
   "source": [
    "rfc1= RandomForestClassifier(n_estimators=500,max_depth=30,min_samples_leaf=2,min_samples_split=5,bootstrap=False,random_state=42)\n",
    "rfc1.fit(result_kbest_20d,y2_enco)\n",
    "cal_clf = CalibratedClassifierCV(rfc1, method=\"sigmoid\")\n",
    "cal_clf.fit(result_kbest_20d,y2_enco)\n",
    "predict_y =cal_clf .predict(result_kbest_20d)\n",
    "print ('The train f1_macro is:',f1_score(y2_enco, predict_y,average='macro'))\n",
    "predict_y = cal_clf.predict(result_kbest_vald)\n",
    "print('The cross validation f1_macro is:',f1_score(y2_en_val, predict_y,average='macro'))"
   ]
  },
  {
   "cell_type": "code",
   "execution_count": 84,
   "metadata": {},
   "outputs": [],
   "source": [
    "from prettytable import PrettyTable"
   ]
  },
  {
   "cell_type": "code",
   "execution_count": 85,
   "metadata": {},
   "outputs": [],
   "source": [
    "Pred_gene = PrettyTable([\"Model\", \"Average_F1_Score\"])\n",
    "Pred_gene.add_row(['KNN','28.50'])\n",
    "Pred_gene.add_row(['Logistic_Regression','25.80'])\n",
    "Pred_gene.add_row(['Decision_Tree','32.69'])\n",
    "Pred_gene.add_row(['RFC','31.49'])"
   ]
  },
  {
   "cell_type": "code",
   "execution_count": 86,
   "metadata": {},
   "outputs": [
    {
     "name": "stdout",
     "output_type": "stream",
     "text": [
      "+---------------------+------------------+\n",
      "|        Model        | Average_F1_Score |\n",
      "+---------------------+------------------+\n",
      "|         KNN         |      28.50       |\n",
      "| Logistic_Regression |      25.80       |\n",
      "|    Decision_Tree    |      32.69       |\n",
      "|         RFC         |      31.49       |\n",
      "+---------------------+------------------+\n"
     ]
    }
   ],
   "source": [
    "print(Pred_gene)"
   ]
  },
  {
   "cell_type": "code",
   "execution_count": 87,
   "metadata": {},
   "outputs": [
    {
     "name": "stdout",
     "output_type": "stream",
     "text": [
      "The train f1_macro is: 0.689088508398342\n"
     ]
    }
   ],
   "source": [
    "DT = DecisionTreeClassifier(max_depth=20,min_samples_leaf=50,random_state=42)\n",
    "DT.fit(result_kbest_20,y1_enco)\n",
    "cal_clf = CalibratedClassifierCV(DT, method=\"sigmoid\")\n",
    "cal_clf.fit(result_kbest_20,y1_enco)\n",
    "predict_y =cal_clf .predict(result_kbest_20)\n",
    "print ('The train f1_macro is:',f1_score(y1_enco, predict_y,average='macro'))\n",
    "predict_y = cal_clf.predict(result_kbest_test20)"
   ]
  },
  {
   "cell_type": "code",
   "execution_count": 88,
   "metadata": {},
   "outputs": [],
   "source": [
    "Genetic_disorder=lab_enc1.inverse_transform(predict_y)"
   ]
  },
  {
   "cell_type": "code",
   "execution_count": 89,
   "metadata": {},
   "outputs": [
    {
     "name": "stdout",
     "output_type": "stream",
     "text": [
      "Missing columns in test data: {'birth_place', 'heart_rate', 'Gender_Ambiguous', 'blood_test_result_inconclusive', 'birth_defect_autopsy_Yes', 'substance_abuse_Yes', 'Status'}\n",
      "The train f1_macro is: 0.700003228975909\n"
     ]
    }
   ],
   "source": [
    "# Ensure result_kbest_test20 has the same columns as result_kbest_20d\n",
    "missing_columns = set(result_kbest_20d.columns) - set(result_kbest_test20.columns)\n",
    "print(\"Missing columns in test data:\", missing_columns)\n",
    "\n",
    "for col in missing_columns:\n",
    "    result_kbest_test20[col] = 0  # Use an appropriate placeholder value\n",
    "\n",
    "# Reorder the columns to match the training data\n",
    "result_kbest_test20 = result_kbest_test20[result_kbest_20d.columns]\n",
    "\n",
    "# Initialize and fit the DecisionTreeClassifier\n",
    "DT = DecisionTreeClassifier(max_depth=20, min_samples_leaf=10, random_state=42)\n",
    "DT.fit(result_kbest_20d, y2_enco)\n",
    "\n",
    "# Initialize and fit the CalibratedClassifierCV\n",
    "cal_clf = CalibratedClassifierCV(DT, method=\"sigmoid\")\n",
    "cal_clf.fit(result_kbest_20d, y2_enco)\n",
    "\n",
    "# Predict on the training data\n",
    "predict_y = cal_clf.predict(result_kbest_20d)\n",
    "print('The train f1_macro is:', f1_score(y2_enco, predict_y, average='macro'))\n",
    "\n",
    "# Predict on the test data\n",
    "predict_yd = cal_clf.predict(result_kbest_test20)\n"
   ]
  },
  {
   "cell_type": "code",
   "execution_count": 90,
   "metadata": {},
   "outputs": [],
   "source": [
    "data_fea_test1=data_test[data_test.isnull().all(1)!=True]"
   ]
  },
  {
   "cell_type": "code",
   "execution_count": 96,
   "metadata": {},
   "outputs": [],
   "source": [
    "ids=data_fea_test1['Patient Id']\n",
    "output=pd.DataFrame({'Patient Id': ids,'Genetic_Disorder':Genetic_disorder})\n",
    "output.to_csv('submission.csv',index=False)"
   ]
  },
  {
   "cell_type": "code",
   "execution_count": null,
   "metadata": {},
   "outputs": [
    {
     "name": "stdout",
     "output_type": "stream",
     "text": [
      "Current working directory: c:\\Users\\Aayush\\Downloads\\genetic disorder data\n"
     ]
    }
   ],
   "source": [
    "import os\n",
    "# Print the current working directory\n",
    "\n",
    "print(\"Current working directory:\", os.getcwd())"
   ]
  },
  {
   "cell_type": "code",
   "execution_count": null,
   "metadata": {},
   "outputs": [],
   "source": []
  }
 ],
 "metadata": {
  "kernelspec": {
   "display_name": "Python 3",
   "language": "python",
   "name": "python3"
  },
  "language_info": {
   "codemirror_mode": {
    "name": "ipython",
    "version": 3
   },
   "file_extension": ".py",
   "mimetype": "text/x-python",
   "name": "python",
   "nbconvert_exporter": "python",
   "pygments_lexer": "ipython3",
   "version": "3.12.2"
  }
 },
 "nbformat": 4,
 "nbformat_minor": 2
}
